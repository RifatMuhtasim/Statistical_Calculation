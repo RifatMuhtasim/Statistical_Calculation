{
 "cells": [
  {
   "cell_type": "code",
   "execution_count": 1,
   "id": "9d264ed6-9f50-4513-bbca-87cf36b4dc2e",
   "metadata": {},
   "outputs": [],
   "source": [
    "import numpy as np\n",
    "import pandas as pd\n",
    "from scipy import stats"
   ]
  },
  {
   "cell_type": "markdown",
   "id": "32468627-972a-4e97-a67d-aa3fb020458b",
   "metadata": {},
   "source": [
    "# What is Hypothesis Test"
   ]
  },
  {
   "cell_type": "markdown",
   "id": "1a1b95a1-928a-49d1-b40d-ffd4b728eb82",
   "metadata": {},
   "source": [
    "Youtube Link: https://www.youtube.com/watch?v=fb8BSFr0isg <br />\n",
    "Youtube Link 2: https://www.youtube.com/watch?v=0oc49DyA3hU"
   ]
  },
  {
   "cell_type": "markdown",
   "id": "e47c4ab0-1655-4aac-929a-363f2f3c180f",
   "metadata": {},
   "source": [
    "Hypothesis testing is a fundamental concept in statistics and research methodology. It is a formal process used to make inferences about populations based on sample data. Hypothesis testing involves assessing the validity of a statement or hypothesis about a population parameter (such as a mean, proportion, or variance) by analyzing sample data.\n",
    "\n",
    "Here are the key steps involved in hypothesis testing:\n",
    "\n",
    "1. **Formulate Hypotheses**: The first step is to state two mutually exclusive hypotheses:\n",
    "   - **Null Hypothesis (H0)**: This is the default or initial assumption. It typically represents a statement of no effect, no difference, or no change in the population parameter. It is what you're trying to test against.\n",
    "   - **Alternative Hypothesis (Ha or H1)**: This represents the statement you want to test or prove. It can take several forms, depending on your research question, such as stating that there is an effect, a difference, or a change in the population parameter.\n",
    "\n"
   ]
  },
  {
   "cell_type": "markdown",
   "id": "e370d0e1-32da-4417-87a9-21b6434af1ae",
   "metadata": {},
   "source": [
    "## Null and Alternate hypothesis"
   ]
  },
  {
   "cell_type": "markdown",
   "id": "1062144a-4a47-44a6-aac3-2da0eb804c67",
   "metadata": {},
   "source": [
    "Definition: A Hypothesis is an idea that can be tested"
   ]
  },
  {
   "cell_type": "markdown",
   "id": "b9fed336-b4de-4386-9705-82ac0590d35d",
   "metadata": {},
   "source": [
    "## Steps Involved in Hypothesis Test"
   ]
  },
  {
   "cell_type": "markdown",
   "id": "fcf204c6-7a3a-4034-b4ec-8873ccc51f89",
   "metadata": {},
   "source": [
    "Hypothesis testing is a critical process in statistics used to make inferences about populations based on sample data. Here are the steps involved in conducting a hypothesis test:\n",
    "\n",
    "1. **State the Hypotheses**:\n",
    "   - **Null Hypothesis (H0)**: Begin by stating the null hypothesis, which is often a statement of no effect, no difference, or no change in the population parameter. It represents the default assumption.\n",
    "   - **Alternative Hypothesis (Ha or H1)**: Define the alternative hypothesis, which is the statement you want to test or prove. It can assert the presence of an effect, a difference, or a change in the population parameter.\n",
    "\n",
    "2. **Collect and Analyze Data**:\n",
    "   - Collect a sample of data from the population of interest.\n",
    "   - Perform appropriate statistical analysis on the sample data. The choice of analysis depends on the nature of your data and the hypothesis being tested. Common analyses include t-tests, chi-squared tests, ANOVA, regression analysis, etc.\n",
    "\n",
    "3. **Choose a Significance Level (Alpha, α)**:\n",
    "   - Select a significance level, denoted as α, which represents the probability of making a Type I error (incorrectly rejecting a true null hypothesis). Common choices for α include 0.05 (5%) and 0.01 (1%).\n",
    "\n",
    "4. **Calculate the Test Statistic**:\n",
    "   - Based on the sample data and the null hypothesis, calculate a test statistic that quantifies the difference between the sample results and what is expected under the null hypothesis. The specific test statistic depends on the hypothesis test you're conducting.\n",
    "\n",
    "5. **Determine the Critical Region**:\n",
    "   - Determine the critical region of the test, which is the range of values of the test statistic that would lead to the rejection of the null hypothesis. You can find critical values from statistical tables or software.\n",
    "\n",
    "6. **Compare the Test Statistic to Critical Values or Calculate p-value**:\n",
    "   - Depending on your chosen significance level:\n",
    "     - Compare the calculated test statistic to the critical values. If the test statistic falls within the critical region, you reject the null hypothesis. If it falls outside the critical region, you fail to reject the null hypothesis.\n",
    "     - Alternatively, calculate a p-value, which represents the probability of obtaining the observed results (or more extreme results) under the null hypothesis. If the p-value is less than α, you reject the null hypothesis. If it is greater than α, you fail to reject the null hypothesis.\n",
    "\n",
    "7. **Make a Decision**:\n",
    "   - Based on the comparison of the test statistic to critical values or the calculation of the p-value, make a decision:\n",
    "     - If the test statistic is in the critical region or the p-value is less than α, reject the null hypothesis in favor of the alternative hypothesis.\n",
    "     - If the test statistic is not in the critical region or the p-value is greater than α, fail to reject the null hypothesis.\n",
    "\n",
    "8. **Draw a Conclusion**:\n",
    "   - Based on your decision, draw a conclusion about the population parameter. If you reject the null hypothesis, it suggests evidence in favor of the alternative hypothesis. If you fail to reject the null hypothesis, you do not have sufficient evidence to support the alternative hypothesis.\n",
    "\n",
    "9. **Report Results**:\n",
    "   - Communicate your findings, including the decision made, the test statistic or p-value, the chosen significance level, and the implications for the research question.\n",
    "\n",
    "Hypothesis testing is a structured and systematic approach to making statistical inferences and is widely used in various fields to make informed decisions based on data."
   ]
  },
  {
   "cell_type": "markdown",
   "id": "0ea80662-bf15-4e99-8e99-d84eee93eaf6",
   "metadata": {},
   "source": [
    "# Performing a Z-test"
   ]
  },
  {
   "cell_type": "markdown",
   "id": "0676c59c-f8f5-4200-824d-30cb589fbe58",
   "metadata": {},
   "source": [
    "Performing a Z-test is a statistical procedure used to compare a sample mean to a known population mean to determine if there is a statistically significant difference between them. This test is typically used when you have a large enough sample size and know the population standard deviation. Here are the steps to perform a Z-test:\n",
    "\n",
    "**Step 1: Define your null and alternative hypotheses:**\n",
    "- Null Hypothesis (H0): This is the hypothesis that there is no significant difference between the sample mean and the population mean.\n",
    "- Alternative Hypothesis (H1): This is the hypothesis that there is a significant difference between the sample mean and the population mean.\n",
    "\n",
    "**Step 2: Collect and organize your data:**\n",
    "- Gather your sample data and calculate the sample mean (x̄).\n",
    "\n",
    "**Step 3: Determine the population mean (μ) and standard deviation (σ):**\n",
    "- You should know or have access to the population mean and standard deviation. If not, you may need to estimate them based on historical data or other sources.\n",
    "\n",
    "**Step 4: Calculate the standard error (SE):**\n",
    "- The standard error is a measure of the standard deviation of the sample mean. You can calculate it using the formula:\n",
    "  SE = σ / √(n)\n",
    "  Where σ is the population standard deviation, and n is the sample size.\n",
    "\n",
    "**Step 5: Calculate the Z-score:**\n",
    "- The Z-score measures how many standard errors your sample mean is away from the population mean. You can calculate it using the formula:\n",
    "  Z = (x̄ - μ) / SE\n",
    "\n",
    "**Step 6: Determine the significance level (α) and find the critical Z-value:**\n",
    "- The significance level (α) is the probability of making a Type I error (rejecting the null hypothesis when it's true). Common values for α are 0.05 and 0.01. Find the corresponding critical Z-value from the standard normal distribution table or calculator.\n",
    "\n",
    "**Step 7: Compare the calculated Z-score to the critical Z-value:**\n",
    "- If the absolute value of your calculated Z-score is greater than the critical Z-value, then you can reject the null hypothesis (H0) in favor of the alternative hypothesis (H1).\n",
    "\n",
    "**Step 8: Draw a conclusion:**\n",
    "- Based on the comparison in Step 7, make a conclusion about whether there is a statistically significant difference between the sample mean and the population mean.\n",
    "\n",
    "Remember that the Z-test assumes that your data follows a normal distribution and that you have a sufficiently large sample size (usually n > 30) for the Central Limit Theorem to apply. If your sample size is small or you don't know the population standard deviation, you might need to use a t-test instead."
   ]
  },
  {
   "cell_type": "markdown",
   "id": "51f2d797-514e-495b-b7bb-cca3e2108fc6",
   "metadata": {},
   "source": [
    "### Problem \n",
    "Suppose you are a quality control manager at a beverage company, and you want to determine if a new production process for filling soda bottles is consistent with the advertised fill volume. The company claims that the average fill volume of the bottles is 500 ml with a standard deviation of 10 ml. To test this claim, you take a random sample of 36 bottles and measure their fill volumes. The sample mean fill volume is 498 ml.\n",
    "\n",
    "Perform a Z-test at a 5% significance level to determine if there is evidence to reject the company's claim.\n",
    "\n",
    "### Solution (Python):"
   ]
  },
  {
   "cell_type": "code",
   "execution_count": 10,
   "id": "79dc7bf7-4fea-4ddb-b6b2-8a5982ea16a4",
   "metadata": {},
   "outputs": [
    {
     "name": "stdout",
     "output_type": "stream",
     "text": [
      "Standard Error:  1.6667\n",
      "Z Score:  0.5976\n",
      "Critical Z Value:  1.959963984540054\n",
      "P Value: 1.95\n",
      "Fail to Reject the Null Hypothesis\n"
     ]
    }
   ],
   "source": [
    "# Given data\n",
    "population_mean = 500  # population mean fill volume (ml)\n",
    "population_stddev = 10  # population standard deviation (ml)\n",
    "sample_size = 36\n",
    "sample_mean = 498  # sample mean fill volume (ml)\n",
    "significance_level = 0.05\n",
    "\n",
    "# Calculate the standard error\n",
    "standard_error = population_stddev / np.sqrt(sample_size)\n",
    "print(\"Standard Error: \", round(standard_error, 4))\n",
    "\n",
    "# Calculate the Z-score\n",
    "z_score = (sample_mean / population_mean) / standard_error\n",
    "print(\"Z Score: \", z_score)\n",
    "\n",
    "# Find the critical Z-value for a two-tailed test at 5% significance level\n",
    "critical_z_value = stats.norm.ppf(1 - (significance_level/2))\n",
    "print(\"Critical Z Value: \", critical_z_value)\n",
    "\n",
    "# Calculate the p-value\n",
    "p_value = 2 * (1 - (significance_level/2))\n",
    "print(\"P Value:\", p_value)\n",
    "\n",
    "# Perform the Z-test\n",
    "if np.abs(z_score) > critical_z_value:\n",
    "    print(\"Reject the Null Hypothesis\")\n",
    "else:\n",
    "    print(\"Fail to Reject the Null Hypothesis\")"
   ]
  },
  {
   "cell_type": "markdown",
   "id": "ec6ca0ac-8786-43c5-a6de-5dfd79070053",
   "metadata": {},
   "source": [
    "# Rejection Region Approach"
   ]
  },
  {
   "cell_type": "markdown",
   "id": "d5bae052-f207-4483-bcc2-18b468773041",
   "metadata": {},
   "source": [
    "In hypothesis testing, the rejection region approach is a way to determine whether to reject the null hypothesis based on the test statistic and a predefined significance level (alpha). It involves comparing the test statistic to critical values (or cutoff points) determined by the chosen significance level. If the test statistic falls into the rejection region, you reject the null hypothesis; otherwise, you fail to reject it.\n",
    "\n",
    "Let's create a problem using the rejection region approach and then solve it using Python with Pandas and NumPy:\n",
    "\n",
    "**Problem:**\n",
    "\n",
    "A car manufacturer claims that a new type of engine they developed produces an average fuel efficiency of 40 miles per gallon (mpg) or more. To test this claim, an independent consumer organization takes a random sample of 25 cars equipped with these engines and measures their fuel efficiency. The sample mean fuel efficiency is 38 mpg, with a sample standard deviation of 4 mpg. Test the manufacturer's claim at a 5% significance level using the rejection region approach.\n",
    "\n",
    "**Solution (Python):**\n",
    "Null Hypothesis: The new type of engine developed by the car manufacturer produces an average fuel efficiency of 40 miles per gallon (mpg) or more. \n",
    "Alternative Hypothesis: The new type of engine produces an average fuel efficiency of less than 40 miles per gallon (mpg)\n"
   ]
  },
  {
   "cell_type": "code",
   "execution_count": 20,
   "id": "98f2811e-2251-4e63-8f35-212c978086d0",
   "metadata": {},
   "outputs": [
    {
     "name": "stdout",
     "output_type": "stream",
     "text": [
      "T Statistics (Z Socre): -2.5\n",
      "Rejection Region is: (0.025, -0.025)\n",
      "Reject the Null Hypothesis\n"
     ]
    }
   ],
   "source": [
    "# Given Data\n",
    "sample_size = 25\n",
    "sample_mean = 38 \n",
    "sample_std = 4\n",
    "population_mean = 40\n",
    "significance_level = 0.05\n",
    "\n",
    "# Calculate the Test Statistics (Z Socre)\n",
    "z_score = (sample_mean - population_mean) / (sample_std / np.sqrt(sample_size))\n",
    "print(\"T Statistics (Z Socre):\", z_score)\n",
    "\n",
    "# Find the critical Z-values for a two-tailed test at the 5% significance level\n",
    "critical_z_lower = (significance_level / 2)\n",
    "critical_z_upper = -critical_z_lower\n",
    "\n",
    "# Determine the rejection region\n",
    "rejection_region = (critical_z_lower, critical_z_upper)\n",
    "print(\"Rejection Region is:\", rejection_region)\n",
    "\n",
    "# Determine if the test statistic falls into the rejection region\n",
    "if z_score < critical_z_lower or z_score > critical_z_upper:\n",
    "    print(\"Reject the Null Hypothesis\")\n",
    "else:\n",
    "    print(\"Fail to Reject the null hypothesis\")"
   ]
  }
 ],
 "metadata": {
  "kernelspec": {
   "display_name": "Python 3 (ipykernel)",
   "language": "python",
   "name": "python3"
  },
  "language_info": {
   "codemirror_mode": {
    "name": "ipython",
    "version": 3
   },
   "file_extension": ".py",
   "mimetype": "text/x-python",
   "name": "python",
   "nbconvert_exporter": "python",
   "pygments_lexer": "ipython3",
   "version": "3.11.2"
  }
 },
 "nbformat": 4,
 "nbformat_minor": 5
}
