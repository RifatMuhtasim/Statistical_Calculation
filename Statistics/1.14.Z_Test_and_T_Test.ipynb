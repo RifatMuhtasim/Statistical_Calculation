{
 "cells": [
  {
   "cell_type": "code",
   "execution_count": 2,
   "id": "c4aabd0b-3800-4abf-bafc-b3077cd6b58d",
   "metadata": {},
   "outputs": [],
   "source": [
    "import numpy as np\n",
    "import scipy.stats as stats\n"
   ]
  },
  {
   "cell_type": "markdown",
   "id": "3f2c380d-a227-4e1c-a77e-955e41a83e6d",
   "metadata": {},
   "source": [
    "# Z Test"
   ]
  },
  {
   "cell_type": "markdown",
   "id": "fa912d8d-b45f-4aff-8e80-54e8470d633d",
   "metadata": {},
   "source": [
    "Youtube Link: https://www.youtube.com/watch?v=7234-lDesHI&t=318s\n",
    "\n",
    "A Z-test is a statistical hypothesis test used to determine whether the means of two data sets are significantly different from each other when the sample sizes are large and the population standard deviation is known. It is a parametric test commonly used for comparing a sample mean to a known population mean or comparing the means of two independent samples.\n",
    "\n",
    "Here are the key components and steps involved in a Z-test: <br/>\n",
    "**Null Hypothesis (H0):** The null hypothesis in a Z-test typically states that there is no significant difference between the means of the two groups being compared.\n",
    "\n",
    "**Alternative Hypothesis (Ha):** The alternative hypothesis, also known as the research hypothesis, contradicts the null hypothesis and suggests that there is a significant difference between the means of the two groups.\n",
    "\n",
    "**Formula:** Z = (X̄ - μ) / (σ / √n)"
   ]
  },
  {
   "cell_type": "markdown",
   "id": "dec043f1-95ad-4727-82e3-8c15ad789d31",
   "metadata": {},
   "source": [
    "### Problem"
   ]
  },
  {
   "cell_type": "markdown",
   "id": "a6e328c8-d71e-439b-998e-ad419ec27e0a",
   "metadata": {},
   "source": [
    "A Factory manufactures blubs with a average warenty of 5 Years with standard deviation 0.50. A workers belive that the blub will manufacture is less than 5 years. He test a sample of 40 blubs and find the average time to be 4.8 years.\n",
    "\n",
    "a) State Null and Alternate Hypothesis. <br/>\n",
    "b) At a 2% significance level, is there enough evidence to support the idea that warenty should be revised?\n",
    "\n",
    "Null Hypothesis: Average Warenty is 5 Years <br/>\n",
    "Alternative Hypothesis: Average Warenty is less than 5 years"
   ]
  },
  {
   "cell_type": "code",
   "execution_count": 3,
   "id": "f71b17ad-d4dc-4842-9065-3c89350a5a78",
   "metadata": {},
   "outputs": [
    {
     "name": "stdout",
     "output_type": "stream",
     "text": [
      "Z Critical: 2.33\n",
      "Z Scores: -2.5298221281347057\n",
      "We Reject the Null Hypothesis\n"
     ]
    }
   ],
   "source": [
    "# Value \n",
    "population_mean = 5\n",
    "population_std = 0.50\n",
    "sample_mean = 4.8\n",
    "sample_size = 40\n",
    "\n",
    "# Define the significance level (alpha)\n",
    "alpha = 0.02\n",
    "\n",
    "# Find the Z-table value (critical value) for the given alpha\n",
    "z_critical = stats.norm.ppf(1- alpha/2)\n",
    "print(\"Z Critical:\", round(z_critical, 2))\n",
    "\n",
    "z_scores = (sample_mean - population_mean) / (population_std/ np.sqrt(sample_size))\n",
    "print(\"Z Scores:\", z_scores)\n",
    "lower_z_critical = -z_scores\n",
    "upper_z_critical = z_scores\n",
    "\n",
    "if z_scores < lower_z_critical or z_scores > upper_z_critical :\n",
    "    print(\"We Reject the Null Hypothesis\")\n",
    "else:\n",
    "    print(\"We Fail to reject the Null Hypothesis\")"
   ]
  },
  {
   "cell_type": "markdown",
   "id": "71c6b19b-1054-4df3-b112-928a1cd9967e",
   "metadata": {},
   "source": [
    "# T Test"
   ]
  },
  {
   "cell_type": "markdown",
   "id": "3af48925-f0f0-436c-a5b0-3970c20b0cb9",
   "metadata": {},
   "source": [
    "A t-test is a statistical hypothesis test used to determine whether there is a significant difference between the means of two groups. It is commonly used when you have a sample from each of the two groups and you want to infer whether any observed differences between the sample means are likely to reflect true differences in the population means or if they could have occurred due to random sampling variation.\n",
    "\n",
    "1. The single-sample t-test compares one sample to a known or hypothesized population mean. <br/>\n",
    "2. The independent samples t-test compares the means of two independent groups.<br/>\n",
    "3. The paired samples t-test compares the means of two related or paired samples, considering the differences between them."
   ]
  },
  {
   "cell_type": "markdown",
   "id": "4650f91d-d7f7-41af-bcc6-38c0745e24bd",
   "metadata": {},
   "source": [
    "## One Sample TTest"
   ]
  },
  {
   "cell_type": "markdown",
   "id": "69fdbb09-b076-428c-9c66-3643a9e60164",
   "metadata": {},
   "source": [
    "Purpose: Used to determine whether the mean of a single sample is significantly different from a known or hypothesized population mean. <br/>\n",
    "Scenario: You have one sample, and you want to test if its mean is significantly different from a specific value (the population mean).<br/>\n",
    "Assumption: Assumes that the sample data follows a normal distribution, and the population standard deviation is usually unknown.<br/>\n",
    "Formula: Uses the t-statistic formula: t = (X̄ - μ) / (s / √n), where X̄ is the sample mean, μ is the population mean, s is the sample standard deviation, and n is the sample size.<br/>"
   ]
  },
  {
   "cell_type": "markdown",
   "id": "efd2e036-8fb6-4111-a6fb-b4e91187924b",
   "metadata": {},
   "source": [
    "Certainly! Here's a single-sample t-test problem:\n",
    "\n",
    "**Problem:** A coffee shop claims that the average caffeine content in their regular coffee is 100 milligrams per 8-ounce cup. To test this claim, a coffee enthusiast randomly selects 12 cups of regular coffee from the shop and measures the caffeine content in each cup (in milligrams). The data is as follows:\n",
    "\n",
    "Caffeine Content (in milligrams):\n",
    "[105, 98, 102, 100, 99, 97, 101, 103, 96, 104, 100, 98]\n",
    "\n",
    "Using a significance level of 0.05, test whether the coffee shop's claim that the average caffeine content is 100 milligrams per cup holds true.\n"
   ]
  },
  {
   "cell_type": "code",
   "execution_count": 29,
   "id": "2bf29926-f2c8-4bec-934e-fe0263f20921",
   "metadata": {},
   "outputs": [
    {
     "name": "stdout",
     "output_type": "stream",
     "text": [
      "Calculated t-statistic: 0.31\n",
      "P-value: 0.7655\n",
      "Critical T Value is: 2.200985160082949\n",
      "Fail to reject the null hypothesis: There is no significant difference in caffeine content.\n"
     ]
    }
   ],
   "source": [
    "# Solve this above problem\n",
    "# Data\n",
    "caffeine_content = np.array([105, 98, 102, 100, 99, 97, 101, 103, 96, 104, 100, 98])\n",
    "\n",
    "# Hypotheses\n",
    "mu = 100  # Critical avarage caffine content\n",
    "alpha = 0.05 \n",
    "\n",
    "# Calculate the sample statistics\n",
    "sample_mean = np.mean(caffeine_content)\n",
    "sample_std = np.std(caffeine_content, ddof=1) #ddof=1 Sample Standard\n",
    "sample_size = len(caffeine_content)\n",
    "\n",
    "# Perform the single-sample t-test\n",
    "t_statistic, p_value = stats.ttest_1samp(caffeine_content, mu)\n",
    "print(f\"Calculated t-statistic: {t_statistic:.2f}\")\n",
    "print(f\"P-value: {p_value:.4f}\")\n",
    "\n",
    "# Degress of Freedom\n",
    "degress_of_freedom = sample_size - 1\n",
    "\n",
    "# Find the critical t-value for a two-tailed test\n",
    "critical_t_value = stats.t.ppf(1- alpha/2, df= degress_of_freedom)\n",
    "print(\"Critical T Value is:\", critical_t_value)\n",
    "\n",
    "# Make a decision based on the p-value\n",
    "if p_value < alpha:\n",
    "    print(\"Reject the null hypothesis: There is a significant difference in caffeine content.\")\n",
    "else:\n",
    "    print(\"Fail to reject the null hypothesis: There is no significant difference in caffeine content.\")"
   ]
  },
  {
   "cell_type": "markdown",
   "id": "45979b24-d8cf-4b29-922b-38c86870b1cf",
   "metadata": {},
   "source": [
    "## Independent Sample T Test"
   ]
  },
  {
   "cell_type": "markdown",
   "id": "37129b27-72f3-4484-adc0-6806ded9a831",
   "metadata": {},
   "source": [
    "Youtube Link: https://www.youtube.com/watch?v=NkGvw18zlGQ\n",
    "\n",
    "A two-sample independent t-test, also known as an independent samples t-test or a two-sample t-test, is a statistical hypothesis test used to determine whether there is a significant difference between the means of two independent groups or samples. In other words, it helps you assess whether the average values (means) of a particular variable are different between two distinct and unrelated groups.\n",
    "\n",
    "Key characteristics and details of the two-sample independent t-test include:\n",
    "\n",
    "Two Independent Groups: The test is appropriate when you have two separate groups, and you want to compare the means of a specific variable between these groups. The groups are considered independent because the individuals or items in one group are not related to or paired with those in the other group.\n",
    "\n",
    "Hypotheses:\n",
    "\n",
    "Null Hypothesis (H0): The population means of the two groups are equal (μ1 = μ2). <br />\n",
    "Alternative Hypothesis (H1): The population means of the two groups are not equal (μ1 ≠ μ2) or have a specific directional difference (μ1 > μ2 or μ1 < μ2)."
   ]
  },
  {
   "cell_type": "markdown",
   "id": "5cc3fef7-d0cd-4276-8183-afe271b48474",
   "metadata": {},
   "source": [
    "**Problem:** A research study is conducted to compare the performance of two different study techniques, Technique A and Technique B, in improving students' math scores. A sample of 20 students is randomly selected, and half of them are taught using Technique A, while the other half are taught using Technique B. After the study period, their math scores are recorded.\n",
    "\n",
    "The scores for the two groups are as follows:\n",
    "\n",
    "Technique A (Group 1):\n",
    "[78, 82, 75, 88, 92, 80, 85, 89, 79, 87]\n",
    "\n",
    "Technique B (Group 2):\n",
    "[85, 88, 70, 79, 92, 84, 76, 90, 78, 86]\n",
    "\n",
    "Using a significance level of 0.05, determine whether there is a significant difference in the mean math scores between the two study techniques."
   ]
  },
  {
   "cell_type": "code",
   "execution_count": 19,
   "id": "bd74aadd-bb27-4a00-a5b7-062df89b4f86",
   "metadata": {},
   "outputs": [
    {
     "name": "stdout",
     "output_type": "stream",
     "text": [
      "Group 1 Mean: 83.5\n",
      "Group 2 Mean: 82.8\n",
      "Calculated t-statistic: 0.3057522187384028\n",
      "Critical t-value: 0.6883638064662002\n",
      "P-value: 0.8049445093758416\n",
      "Fail to reject the null hypothesis\n"
     ]
    }
   ],
   "source": [
    "# Solution\n",
    "# Data for Technique A (Group 1 and Group 2)\n",
    "group_1_score = np.array([78, 82, 75, 88, 92, 80, 85, 89, 79, 87])\n",
    "group_2_score = np.array([85, 88, 70, 79, 92, 84, 76, 90, 78, 86])\n",
    "\n",
    "# Hypotheses:\n",
    "# H0: The population means of the two groups are equal (μ1 = μ2).\n",
    "# H1: The population means of the two groups are not equal (μ1 ≠ μ2).\n",
    "\n",
    "alpha = 0.5 # Significance Level\n",
    "\n",
    "# Perform a two-sample independent t-test\n",
    "t_statistics, p_value = stats.ttest_ind(group_1_score, group_2_score)\n",
    "\n",
    "# Determine the degrees of freedom\n",
    "degress_of_freedom = len(group_1_score) + len(group_2_score) - 2\n",
    "\n",
    "# Find the critical t-value for a two-tailed test\n",
    "critical_t_value = stats.t.ppf(1 - alpha/2, df=degress_of_freedom)\n",
    "\n",
    "# Print the results\n",
    "print(\"Group 1 Mean:\", np.mean(group_1_score))\n",
    "print(\"Group 2 Mean:\", np.mean(group_2_score))\n",
    "print(\"Calculated t-statistic:\", t_statistic)\n",
    "print(\"Critical t-value:\", critical_t_value)\n",
    "print(\"P-value:\", p_value)\n",
    "\n",
    "# Make a decision based on the p-value\n",
    "if p_value < alpha:\n",
    "    print(\"Reject the null hypothesis\")\n",
    "else:\n",
    "    print(\"Fail to reject the null hypothesis\")\n"
   ]
  },
  {
   "cell_type": "markdown",
   "id": "9bebaae0-4b38-4b32-b575-b820b1cf965b",
   "metadata": {},
   "source": [
    "## Paired Sample T Test"
   ]
  },
  {
   "cell_type": "markdown",
   "id": "f6b8a3b1-3bd0-4e22-a758-e68bd92ba149",
   "metadata": {},
   "source": [
    "A paired sample t-test, also known as a dependent sample t-test or a matched-pairs t-test, is a statistical hypothesis test used to determine whether there is a significant difference between the means of two related or paired samples. In this type of t-test, the data is collected in pairs, and each pair represents a specific relationship or matching between the observations in the two samples.\n",
    "\n",
    "Key characteristics and details of the paired sample t-test include:\n",
    "\n",
    "Paired Samples: The test is appropriate when you have two sets of related or paired observations. These pairs could be measurements taken before and after an intervention, measurements on the same individuals or subjects under two different conditions, or any other situation where there is a natural pairing between the observations.\n",
    "\n",
    "Hypotheses:\n",
    "\n",
    "Null Hypothesis (H0): The population means of the two related samples are equal (μ1 = μ2). <br />\n",
    "Alternative Hypothesis (H1): The population means of the two related samples are not equal (μ1 ≠ μ2) or have a specific directional difference (μ1 > μ2 or μ1 < μ2)."
   ]
  },
  {
   "cell_type": "markdown",
   "id": "0866b95f-1b23-441a-9b56-99f0c63a24db",
   "metadata": {},
   "source": [
    "***Problem:*** A fitness trainer wants to determine whether a new exercise program is effective in increasing the endurance levels of their clients. To assess this, the trainer measures the endurance levels (in minutes) of 12 clients before they start the program and then again after they complete the program. The data for the endurance levels before and after the program is as follows:\n",
    "\n",
    "Endurance Levels (in minutes):\n",
    "\n",
    "Before Program: [15, 18, 12, 14, 17, 16, 20, 13, 15, 19, 14, 18]\n",
    "\n",
    "After Program: [18, 21, 13, 16, 20, 19, 22, 15, 17, 21, 15, 20]\n",
    "\n",
    "Using a significance level of 0.05, determine whether there is a significant difference in the mean endurance levels before and after the exercise program.\n",
    "\n"
   ]
  },
  {
   "cell_type": "code",
   "execution_count": 25,
   "id": "bbe3ca00-d553-4af2-9f7e-64a724e25365",
   "metadata": {},
   "outputs": [
    {
     "name": "stdout",
     "output_type": "stream",
     "text": [
      "Mean of Differences (After - Before): 2.1666666666666665\n",
      "Calculated t-statistic: 10.457195665017968\n",
      "Critical t-value: 2.200985160082949\n",
      "P-value: 4.721070329086275e-07\n",
      "Reject Null Hypothesis\n"
     ]
    }
   ],
   "source": [
    "# Solution\n",
    "# Data for endurance levels before and after the program\n",
    "endurance_before = np.array([15, 18, 12, 14, 17, 16, 20, 13, 15, 19, 14, 18])\n",
    "endurance_after = np.array([18, 21, 13, 16, 20, 19, 22, 15, 17, 21, 15, 20])\n",
    "\n",
    "# Hypotheses:\n",
    "# H0: The population means of endurance levels before and after the program are equal (μ1 = μ2).\n",
    "# H1: The population means of endurance levels before and after the program are not equal (μ1 ≠ μ2).\n",
    "\n",
    "alpha = 0.05\n",
    "\n",
    "# Calculate the differences between paired observations\n",
    "differences = endurance_after - endurance_before\n",
    "\n",
    "# Perform a paired sample t-test\n",
    "t_statistic, p_value = stats.ttest_rel(endurance_after, endurance_before)\n",
    "\n",
    "# Determine the degrees of freedom\n",
    "degrees_of_freedom = len(differences) - 1\n",
    "\n",
    "# Find the critical t-value for a two-tailed test\n",
    "critical_t_value = stats.t.ppf(1- alpha/2, df=degrees_of_freedom)\n",
    "\n",
    "# Print the result\n",
    "print(\"Mean of Differences (After - Before):\", np.mean(differences))\n",
    "print(\"Calculated t-statistic:\", t_statistic)\n",
    "print(\"Critical t-value:\", critical_t_value)\n",
    "print(\"P-value:\", p_value)\n",
    "\n",
    "# Make a decision based on the p-value\n",
    "if p_value < alpha:\n",
    "    print(\"Reject Null Hypothesis\")\n",
    "else:\n",
    "    print(\"Fail to Reject the Null Hypothesis\")"
   ]
  }
 ],
 "metadata": {
  "kernelspec": {
   "display_name": "Python 3 (ipykernel)",
   "language": "python",
   "name": "python3"
  },
  "language_info": {
   "codemirror_mode": {
    "name": "ipython",
    "version": 3
   },
   "file_extension": ".py",
   "mimetype": "text/x-python",
   "name": "python",
   "nbconvert_exporter": "python",
   "pygments_lexer": "ipython3",
   "version": "3.11.2"
  }
 },
 "nbformat": 4,
 "nbformat_minor": 5
}
