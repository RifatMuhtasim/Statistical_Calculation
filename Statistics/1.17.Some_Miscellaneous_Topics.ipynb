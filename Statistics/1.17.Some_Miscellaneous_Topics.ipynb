{
 "cells": [
  {
   "cell_type": "code",
   "execution_count": null,
   "id": "39746690-9e92-4cca-8e01-481850dd3897",
   "metadata": {},
   "outputs": [],
   "source": [
    "import numpy as np\n",
    "import matplotlib.pyplot as plt\n",
    "from scipy import stats"
   ]
  },
  {
   "cell_type": "markdown",
   "id": "342b14e4-e5be-40cc-9785-5b6ed4957de8",
   "metadata": {
    "jp-MarkdownHeadingCollapsed": true
   },
   "source": [
    "# Chebyshev's Inequality"
   ]
  },
  {
   "cell_type": "markdown",
   "id": "6c9e013c-648d-4f84-9893-aa97f8065c76",
   "metadata": {},
   "source": [
    "Youtube: https://www.youtube.com/watch?v=DWsDqKlW7Z4\n",
    "\n",
    "Chebyshev's Inequality is a fundamental theorem in probability and statistics that provides an upper bound on the probability of how far a random variable can deviate from its mean (average) regardless of the shape of its probability distribution. It is named after the Russian mathematician Pafnuty Chebyshev and is a powerful tool for understanding the spread or dispersion of data."
   ]
  },
  {
   "cell_type": "markdown",
   "id": "c991191e-c723-47d5-9a25-85a08a5272c2",
   "metadata": {
    "jp-MarkdownHeadingCollapsed": true
   },
   "source": [
    "# QQ Plot"
   ]
  },
  {
   "cell_type": "markdown",
   "id": "08c8d1f3-8e2c-4a5e-a56c-91cef4798e1e",
   "metadata": {},
   "source": [
    "Youtube: https://www.youtube.com/watch?v=okjYjClSjOg\n",
    "\n",
    "A Quantile-Quantile (QQ) plot is a graphical tool used to assess whether a dataset follows a particular theoretical distribution, such as the normal distribution. In a QQ plot, the quantiles of the observed data are compared to the quantiles of the theoretical distribution. If the points on the QQ plot approximately follow a straight line, it suggests that the data is well-modeled by the theoretical distribution."
   ]
  },
  {
   "cell_type": "code",
   "execution_count": 4,
   "id": "095bbd06-9899-460c-84c3-0d4e2c13a038",
   "metadata": {},
   "outputs": [
    {
     "data": {
      "image/png": "[encoded data removed]",
      "text/plain": [
       "<Figure size 640x480 with 1 Axes>"
      ]
     },
     "metadata": {},
     "output_type": "display_data"
    }
   ],
   "source": [
    "# Generate a random sample of data (you can replace this with your own dataset)\n",
    "np.random.seed(0)\n",
    "data = np.random.normal(0, 1, 100)\n",
    "\n",
    "# Create a QQ plot\n",
    "sorted_data = np.sort(data)\n",
    "theoretical_quantiles = stats.norm.ppf(np.linspace(0.01, 0.99, 100))  # Theoretical quantiles for the normal distribution\n",
    "\n",
    "plt.scatter(theoretical_quantiles, sorted_data, color='b')\n",
    "plt.xlabel(\"Theoretical Quantiles\")\n",
    "plt.ylabel(\"Sample Quantiles\")\n",
    "plt.title(\"QQ Plot\")\n",
    "\n",
    "\n",
    "# Add a reference line (y=x)\n",
    "plt.plot([min(theoretical_quantiles), max(theoretical_quantiles)],\n",
    "        [min(theoretical_quantiles), max(theoretical_quantiles)],\n",
    "        color=\"red\")\n",
    "\n",
    "plt.grid()\n",
    "plt.show()"
   ]
  },
  {
   "cell_type": "markdown",
   "id": "d71781e4-cf67-4fb7-a933-acb870a56ac8",
   "metadata": {
    "jp-MarkdownHeadingCollapsed": true
   },
   "source": [
    "# Sampling "
   ]
  },
  {
   "cell_type": "markdown",
   "id": "e237d154-3cf8-4937-b3de-b5b2f919cc07",
   "metadata": {},
   "source": [
    "Youtube: https://www.youtube.com/watch?v=KLAEwukvuZs\n",
    "\n",
    "The purpose of sampling is to draw conclusions about the entire population based on the characteristics observed in the selected sample"
   ]
  },
  {
   "cell_type": "markdown",
   "id": "13996e1c-7e20-4311-8f9f-9d9a36d6909f",
   "metadata": {
    "jp-MarkdownHeadingCollapsed": true
   },
   "source": [
    "# Resampling Techniques: Cross Validation"
   ]
  },
  {
   "cell_type": "markdown",
   "id": "5daf7bb8-3439-4cd6-8f1d-a526dc5fd2c0",
   "metadata": {},
   "source": [
    "Youtube: https://www.youtube.com/watch?v=fSytzGwwBVw\n",
    "\n",
    "Resampling is a statistical technique in which you repeatedly draw samples from your original data or create new datasets by sampling with or without replacement. Resampling methods are widely used in statistics and data analysis for various purposes, including estimating statistical properties, assessing uncertainty, validating models, and making inferences. There are two primary forms of resampling: bootstrapping and cross-validation."
   ]
  },
  {
   "cell_type": "markdown",
   "id": "654bbd13-67e1-4f33-aa68-60c5f36f79bf",
   "metadata": {
    "jp-MarkdownHeadingCollapsed": true
   },
   "source": [
    "# Bootstraping"
   ]
  },
  {
   "cell_type": "markdown",
   "id": "8bb1717b-97fd-46d9-a84a-f36a30db7a75",
   "metadata": {},
   "source": [
    "Youtube: https://www.youtube.com/watch?v=Xz0x-8-cgaQ"
   ]
  },
  {
   "cell_type": "markdown",
   "id": "8cf3fbce-5a6c-49e4-afc6-374fa1f4ebf0",
   "metadata": {},
   "source": [
    " Bootstrap is a resampling technique used in statistics and data analysis to estimate the sampling distribution of a statistic by repeatedly resampling from the observed data with replacement. The primary goal of bootstrapping is to make statistical inferences and assess the uncertainty associated with various estimators, especially when the underlying population distribution is unknown or when only a limited sample is available."
   ]
  },
  {
   "cell_type": "markdown",
   "id": "016ef3a3-65bc-47aa-8a7b-9e6d2774ecdc",
   "metadata": {
    "jp-MarkdownHeadingCollapsed": true
   },
   "source": [
    "# Standardization"
   ]
  },
  {
   "cell_type": "markdown",
   "id": "77b2863e-1555-4e13-9ff8-2ca2999b94ba",
   "metadata": {},
   "source": [
    "Youtube: https://www.youtube.com/watch?v=sxEqtjLC0aM\n",
    "\n",
    "Standardization, in the context of statistics and data analysis, refers to the process of transforming data so that it has a mean (average) of zero and a standard deviation of one. This transformation is often applied to features or variables in a dataset and is also known as \"z-score transformation\" or \"normalization.\" Standardization makes it easier to compare and interpret data that may have different units or scales.\n",
    "\n",
    "The standardization formula for a single data point x is given by:\n",
    "\n",
    "\\[ z = \\frac{x - \\mu}{\\sigma} \\]\n",
    "\n",
    "Where:\n",
    "- \\( z \\) is the standardized value (z-score).\n",
    "- \\( x \\) is the original data point.\n",
    "- \\( \\mu \\) is the mean (average) of the dataset.\n",
    "- \\( \\sigma \\) is the standard deviation of the dataset.\n"
   ]
  },
  {
   "cell_type": "markdown",
   "id": "4a36475a-43e3-445b-bd79-0900fa698769",
   "metadata": {
    "jp-MarkdownHeadingCollapsed": true
   },
   "source": [
    "# Normalization"
   ]
  },
  {
   "cell_type": "markdown",
   "id": "56b5530f-26fa-4f05-9542-649c0b7f6c47",
   "metadata": {},
   "source": [
    "Youtube: https://www.youtube.com/watch?v=sxEqtjLC0aM\n",
    "<br/> Youtube 2: https://www.youtube.com/watch?v=mnKm3YP56PY&t=370s\n",
    "\n",
    "Normalization, in the context of data analysis and statistics, refers to the process of scaling data to a specific range or distribution to make it more suitable for analysis, modeling, or visualization. The goal of normalization is to transform data in such a way that it retains its relative proportions and relationships while being adjusted to a common scale or distribution.\n",
    "\n",
    "There are several ways to normalize data, but two common methods are min-max scaling and z-score normalization:\n",
    "\n",
    "1. **Min-Max Scaling:**\n",
    "   - Also known as \"min-max normalization\" or \"feature scaling.\"\n",
    "   - Scales the data to a specific range, typically between 0 and 1.\n",
    "   - The formula for min-max scaling for a single data point x is:\n",
    "     \\[ x_{\\text{normalized}} = \\frac{x - \\text{min}(X)}{\\text{max}(X) - \\text{min}(X)} \\]\n",
    "   - Here, \\( x_{\\text{normalized}} \\) is the normalized value of x, \\( X \\) is the variable or feature being normalized, and \\(\\text{min}(X)\\) and \\(\\text{max}(X)\\) are the minimum and maximum values of the feature in the dataset, respectively.\n",
    "\n",
    "2. **Z-Score Normalization (Standardization):**\n",
    "   - Also known as \"z-score transformation\" or \"standardization.\"\n",
    "   - Centers the data around a mean of 0 and scales it to have a standard deviation of 1.\n",
    "   - The formula for z-score normalization for a single data point x is:\n",
    "     \\[ z = \\frac{x - \\mu}{\\sigma} \\]\n",
    "   - Here, \\( z \\) is the standardized value (z-score), \\( x \\) is the original data point, \\( \\mu \\) is the mean (average) of the dataset, and \\( \\sigma \\) is the standard deviation of the dataset.\n",
    "\n"
   ]
  },
  {
   "cell_type": "markdown",
   "id": "ba7b1942-dc0b-491d-a661-7ab867b9925b",
   "metadata": {
    "jp-MarkdownHeadingCollapsed": true
   },
   "source": [
    "# Statistical Moments"
   ]
  },
  {
   "cell_type": "markdown",
   "id": "f9773f63-283a-47af-a4e0-44861018e09e",
   "metadata": {},
   "source": [
    "Statistical moments are mathematical measures that provide information about the shape, distribution, and characteristics of a set of data. They are used in statistics to describe various aspects of a probability distribution or a dataset. There are several different moments, but the most commonly used ones are:\n",
    "\n",
    "1. **First Moment (Mean or Expected Value):** The first moment, also known as the mean or expected value, is a measure of the center or average of a dataset. It is calculated by summing up all the values in the dataset and dividing by the total number of values. Mathematically, it is denoted as E(X) for a random variable X.\n",
    "\n",
    "   Formula: μ = Σ(x) / n, where μ is the mean, Σ(x) is the sum of all data values, and n is the number of data values.\n",
    "\n",
    "2. **Second Moment (Variance):** The second moment measures the spread or dispersion of data points around the mean. Variance quantifies how much individual data points deviate from the mean. A higher variance indicates a wider spread of data.\n",
    "\n",
    "   Formula: σ² = Σ(x - μ)² / n, where σ² is the variance, Σ(x - μ)² is the sum of squared differences between each data point and the mean, and n is the number of data values.\n",
    "\n",
    "3. **Third Moment (Skewness):** Skewness measures the asymmetry of the data distribution. A positive skewness indicates that the data is skewed to the right (tail on the right side of the mean), while a negative skewness indicates left skew (tail on the left side of the mean).\n",
    "\n",
    "   Formula: Skewness = Σ(x - μ)³ / [n * σ³], where Skewness is the skewness measure, Σ(x - μ)³ is the sum of cubed differences between data points and the mean, σ is the standard deviation, and n is the number of data values.\n",
    "\n",
    "4. **Fourth Moment (Kurtosis):** Kurtosis measures the \"tailedness\" of the data distribution, indicating how data points are distributed in the tails relative to the center of the distribution. High kurtosis indicates heavy tails, while low kurtosis indicates light tails.\n",
    "\n",
    "   Formula: Kurtosis = Σ(x - μ)⁴ / [n * σ⁴], where Kurtosis is the kurtosis measure, Σ(x - μ)⁴ is the sum of fourth powers of differences between data points and the mean, σ is the standard deviation, and n is the number of data values.\n",
    "\n",
    "These moments provide valuable information for understanding the characteristics of a dataset or probability distribution. Beyond the first four moments, there are higher-order moments that provide even more detailed information about the shape of the distribution, though they are less commonly used in practice."
   ]
  },
  {
   "cell_type": "markdown",
   "id": "ba879270-fcdc-47e6-a801-adfb846bdc3e",
   "metadata": {
    "jp-MarkdownHeadingCollapsed": true
   },
   "source": [
    "# Bayesian Statistics"
   ]
  },
  {
   "cell_type": "markdown",
   "id": "e8737261-f681-4450-b8f6-2cc8000f613a",
   "metadata": {},
   "source": [
    "Bayesian statistics is a branch of statistics that is based on the principles of Bayesian probability theory. It provides a framework for making statistical inferences and updating beliefs or probabilities about events or parameters based on both prior information and observed data. Bayesian statistics is named after Thomas Bayes, an 18th-century statistician, and theologian, who laid the foundation for the Bayesian probability theory.\n",
    "\n",
    "Key concepts and principles of Bayesian statistics include:\n",
    "\n",
    "1. **Bayes' Theorem:** At the heart of Bayesian statistics is Bayes' theorem, which describes how to update the probability of a hypothesis or event based on new evidence. The theorem is formulated as:\n",
    "\n",
    "   P(A|B) = [P(B|A) * P(A)] / P(B)\n",
    "\n",
    "   - P(A|B) represents the posterior probability of hypothesis A given evidence B.\n",
    "   - P(B|A) is the likelihood of observing evidence B given hypothesis A.\n",
    "   - P(A) is the prior probability of hypothesis A.\n",
    "   - P(B) is the probability of evidence B.\n",
    "\n",
    "2. **Prior Probability:** Bayesian statistics incorporates prior knowledge or beliefs about a parameter or event before observing new data. This prior information is represented as the prior probability distribution and reflects what is known or assumed about the parameter or event before data collection.\n",
    "\n",
    "3. **Likelihood:** The likelihood function represents the probability of observing the data given various values of a parameter. It describes the relationship between the parameters and the observed data.\n",
    "\n",
    "4. **Posterior Probability:** After observing new data, Bayesian statistics calculates the posterior probability distribution, which combines the prior probability and the likelihood to update beliefs or make inferences about the parameter of interest. The posterior distribution represents what is known about the parameter after incorporating the new evidence.\n",
    "\n",
    "5. **Bayesian Inference:** Bayesian inference involves using the posterior probability distribution to make predictions, estimate parameters, or draw conclusions about the data. It provides a flexible framework for hypothesis testing, model selection, and uncertainty quantification.\n",
    "\n",
    "6. **Markov Chain Monte Carlo (MCMC):** In cases where analytical solutions are not feasible, Bayesian statistics often relies on computational methods like Markov Chain Monte Carlo (MCMC) to sample from complex posterior distributions. MCMC methods allow practitioners to approximate the posterior distribution numerically.\n",
    "\n",
    "7. **Bayesian Models:** Bayesian statistics can be applied to a wide range of statistical models, including linear regression, hierarchical models, Bayesian networks, and more. These models allow for the incorporation of prior knowledge and the estimation of parameters in a probabilistic framework.\n",
    "\n",
    "8. **Subjective vs. Objective Bayesianism:** There are different schools of thought within Bayesian statistics. Subjective Bayesianism emphasizes the use of subjective prior probabilities based on individual beliefs, while objective Bayesianism aims to develop methods for obtaining \"non-informative\" or \"objective\" priors.\n",
    "\n",
    "Bayesian statistics is particularly useful in situations where prior information is available or when it is necessary to update beliefs in a systematic way as new data becomes available. It is widely applied in fields such as machine learning, Bayesian data analysis, Bayesian networks, and Bayesian decision theory."
   ]
  },
  {
   "cell_type": "markdown",
   "id": "444da4db-d526-4da0-9d18-d5760fdd027d",
   "metadata": {},
   "source": [
    "# A/B Testing"
   ]
  },
  {
   "cell_type": "markdown",
   "id": "b6808973-1277-498f-82f3-49c6dddeae3c",
   "metadata": {},
   "source": [
    "Youtube: https://www.youtube.com/watch?v=eiIhTbFP0ls"
   ]
  },
  {
   "cell_type": "markdown",
   "id": "136191a2-cbf1-492f-9875-3283cb852541",
   "metadata": {},
   "source": [
    "A/B testing, also known as split testing or bucket testing, is a method used in experimental design to compare two versions of a web page, app, or other digital product to determine which one performs better in achieving a specific goal or outcome. It is commonly used in marketing, product development, and user experience optimization to make data-driven decisions and improve the performance of online assets."
   ]
  },
  {
   "cell_type": "markdown",
   "id": "259d76a9-4e9b-4917-98e6-ee3f567fb152",
   "metadata": {},
   "source": [
    "# Law of Large Numbers"
   ]
  },
  {
   "cell_type": "markdown",
   "id": "5d3a28be-05ed-47fe-a8e8-628ce78c2333",
   "metadata": {},
   "source": [
    "Youtube: https://www.youtube.com/watch?v=MntX3zWNWec\n",
    "\n",
    "The Law of Large Numbers (LLN) is a fundamental theorem in probability theory and statistics that describes the behavior of sample averages as the sample size increases. It states that as the sample size grows larger, the sample mean (average) of a random sample drawn from a population will tend to converge to the population mean.\n",
    "\n"
   ]
  }
 ],
 "metadata": {
  "kernelspec": {
   "display_name": "Python 3 (ipykernel)",
   "language": "python",
   "name": "python3"
  },
  "language_info": {
   "codemirror_mode": {
    "name": "ipython",
    "version": 3
   },
   "file_extension": ".py",
   "mimetype": "text/x-python",
   "name": "python",
   "nbconvert_exporter": "python",
   "pygments_lexer": "ipython3",
   "version": "3.11.2"
  }
 },
 "nbformat": 4,
 "nbformat_minor": 5
}
