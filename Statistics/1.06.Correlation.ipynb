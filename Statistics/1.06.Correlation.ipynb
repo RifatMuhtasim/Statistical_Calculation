{
 "cells": [
  {
   "cell_type": "markdown",
   "id": "8e2dcad5-0bbc-472e-8138-30863c543287",
   "metadata": {},
   "source": [
    "# <center> Correlation </center>"
   ]
  },
  {
   "cell_type": "code",
   "execution_count": 1,
   "id": "248c38ed-be8d-43d5-adaf-d852c807781f",
   "metadata": {},
   "outputs": [],
   "source": [
    "import numpy as np\n",
    "import pandas as pd\n",
    "from matplotlib import pyplot as plt\n",
    "import scipy.stats"
   ]
  },
  {
   "cell_type": "markdown",
   "id": "eda029a2-e6cb-4015-8ca1-8839545af5df",
   "metadata": {},
   "source": [
    "## What is Covariance?\n",
    "- Covariance measures the direction of a relationship between two variables."
   ]
  },
  {
   "cell_type": "code",
   "execution_count": 2,
   "id": "67e3f002-4712-409c-9977-fac6462d9f46",
   "metadata": {},
   "outputs": [
    {
     "name": "stdout",
     "output_type": "stream",
     "text": [
      "Covariance: -2.5\n"
     ]
    }
   ],
   "source": [
    "data = {'X': [1, 2, 3, 4, 5], 'Y': [5, 4, 3, 2, 1]}\n",
    "df = pd.DataFrame(data)\n",
    "\n",
    "covariance = df['X'].cov(df['Y'])\n",
    "print('Covariance:', covariance)"
   ]
  },
  {
   "cell_type": "markdown",
   "id": "27ee58cf-9c9c-47da-a720-2bed1b41f06b",
   "metadata": {},
   "source": [
    "## What is Covariance Matrix? \n",
    "- The covariance matrix is a useful tool for understanding how variables in a dataset are related to each other. "
   ]
  },
  {
   "cell_type": "code",
   "execution_count": 3,
   "id": "fa12e8a9-3ebe-4450-8f5f-931351038b3b",
   "metadata": {},
   "outputs": [
    {
     "data": {
      "text/plain": [
       "'Covariance Matrix:'"
      ]
     },
     "metadata": {},
     "output_type": "display_data"
    },
    {
     "data": {
      "text/html": [
       "<div>\n",
       "<style scoped>\n",
       "    .dataframe tbody tr th:only-of-type {\n",
       "        vertical-align: middle;\n",
       "    }\n",
       "\n",
       "    .dataframe tbody tr th {\n",
       "        vertical-align: top;\n",
       "    }\n",
       "\n",
       "    .dataframe thead th {\n",
       "        text-align: right;\n",
       "    }\n",
       "</style>\n",
       "<table border=\"1\" class=\"dataframe\">\n",
       "  <thead>\n",
       "    <tr style=\"text-align: right;\">\n",
       "      <th></th>\n",
       "      <th>X</th>\n",
       "      <th>Y</th>\n",
       "      <th>Z</th>\n",
       "    </tr>\n",
       "  </thead>\n",
       "  <tbody>\n",
       "    <tr>\n",
       "      <th>X</th>\n",
       "      <td>2.50</td>\n",
       "      <td>-2.50</td>\n",
       "      <td>1.75</td>\n",
       "    </tr>\n",
       "    <tr>\n",
       "      <th>Y</th>\n",
       "      <td>-2.50</td>\n",
       "      <td>2.50</td>\n",
       "      <td>-1.75</td>\n",
       "    </tr>\n",
       "    <tr>\n",
       "      <th>Z</th>\n",
       "      <td>1.75</td>\n",
       "      <td>-1.75</td>\n",
       "      <td>2.50</td>\n",
       "    </tr>\n",
       "  </tbody>\n",
       "</table>\n",
       "</div>"
      ],
      "text/plain": [
       "      X     Y     Z\n",
       "X  2.50 -2.50  1.75\n",
       "Y -2.50  2.50 -1.75\n",
       "Z  1.75 -1.75  2.50"
      ]
     },
     "metadata": {},
     "output_type": "display_data"
    }
   ],
   "source": [
    "data2 = {'X': [1, 2, 3, 4, 5],\n",
    "        'Y': [5, 4, 3, 2, 1],\n",
    "        'Z': [2, 3, 1, 4, 5]}\n",
    "df2  = pd.DataFrame(data2)\n",
    "covariance_matrix = df2.cov()\n",
    "display(\"Covariance Matrix:\", covariance_matrix)"
   ]
  },
  {
   "cell_type": "markdown",
   "id": "aa2ffe06-e83f-45ee-9a78-daeee280d94e",
   "metadata": {},
   "source": [
    "## What is Pearson Correlation Coefficient\n",
    "- It measures the strength and direction of the linear association between two variables.\n",
    "- The Pearson correlation coefficient ranges from -1 to 1\n",
    "- Formula: $ r = \\frac{\\sum x_1 x_2 - n \\bar{x_1} \\bar{x_2} }{ \\sqrt{(\\sum x_1^2 - n \\bar{x_1}^2)(\\sum x_2^2 - n \\bar{x_2}^2)} } $"
   ]
  },
  {
   "cell_type": "code",
   "execution_count": 4,
   "id": "ee5d5eab-ef6a-4ceb-9cc6-e62229c43851",
   "metadata": {},
   "outputs": [
    {
     "name": "stdout",
     "output_type": "stream",
     "text": [
      "Pearson Correlation: 0.7\n"
     ]
    }
   ],
   "source": [
    "pearson_correlation = df2['X'].corr(df2['Z'])\n",
    "print(\"Pearson Correlation:\", pearson_correlation)"
   ]
  },
  {
   "cell_type": "markdown",
   "id": "44cb3343-b945-4317-95b2-0a55af36390a",
   "metadata": {},
   "source": [
    "## What is the Spearman Rank Correlation Coefficient?"
   ]
  },
  {
   "cell_type": "markdown",
   "id": "0b8febcb-aba6-4529-9664-f7f5b73829d2",
   "metadata": {},
   "source": [
    "- The Spearman Rank Correlation coefficient is a non-parametric measure that describes the strength and direction of the two different rank variables.\n",
    "- Formula: $ \\rho = 1 - \\frac{6 \\sum d_i^2}{n(n^2-1)} $"
   ]
  },
  {
   "cell_type": "code",
   "execution_count": 5,
   "id": "93c1d291-c204-4b2a-b8b2-08b346404452",
   "metadata": {},
   "outputs": [
    {
     "name": "stdout",
     "output_type": "stream",
     "text": [
      "Spearman Correlation Coefficient: -0.7\n"
     ]
    }
   ],
   "source": [
    "spearman_correlation, _ = scipy.stats.spearmanr(df2['Y'], df2['Z'])\n",
    "print(\"Spearman Correlation Coefficient:\", spearman_correlation)"
   ]
  },
  {
   "cell_type": "markdown",
   "id": "a96898c6-782e-46e2-925d-34837ab00a20",
   "metadata": {},
   "source": [
    "## What is Causation?\n",
    "- Causation implies a cause-and-effect relationship between two variables.\n",
    "- Causation in regression refers to the relationship between independent and dependent variables, where the independent variables are regarded as causes of the dependent variable."
   ]
  }
 ],
 "metadata": {
  "kernelspec": {
   "display_name": "Python 3 (ipykernel)",
   "language": "python",
   "name": "python3"
  },
  "language_info": {
   "codemirror_mode": {
    "name": "ipython",
    "version": 3
   },
   "file_extension": ".py",
   "mimetype": "text/x-python",
   "name": "python",
   "nbconvert_exporter": "python",
   "pygments_lexer": "ipython3",
   "version": "3.10.12"
  }
 },
 "nbformat": 4,
 "nbformat_minor": 5
}
