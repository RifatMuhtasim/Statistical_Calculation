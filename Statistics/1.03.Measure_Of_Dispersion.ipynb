{
 "cells": [
  {
   "cell_type": "markdown",
   "id": "f685d269-c023-4695-b7ac-188c9259c620",
   "metadata": {},
   "source": [
    "# Measure of Dispersion "
   ]
  },
  {
   "cell_type": "code",
   "execution_count": 1,
   "id": "19c0263a-d065-4f72-8501-03a163453bda",
   "metadata": {},
   "outputs": [],
   "source": [
    "import pandas as pd\n",
    "import numpy as np\n",
    "\n",
    "pd.set_option(\"display.max_columns\", None)\n",
    "df = pd.read_csv(\"https://raw.githubusercontent.com/User-zwj/Pandas-Practice/master/survey_results_public.csv\")"
   ]
  },
  {
   "cell_type": "markdown",
   "id": "bc224aeb-42a0-4015-b356-2f72561e0060",
   "metadata": {},
   "source": [
    "## What is Range ?\n",
    "- Range is Maximum Number - Minimum Number"
   ]
  },
  {
   "cell_type": "code",
   "execution_count": 2,
   "id": "dcc81bc9-4eb3-4000-8774-1a5db75304a5",
   "metadata": {},
   "outputs": [
    {
     "name": "stdout",
     "output_type": "stream",
     "text": [
      "Range: 449052.0\n"
     ]
    }
   ],
   "source": [
    "salary = df['ConvertedComp']\n",
    "range = salary.max() - salary.min()\n",
    "print(\"Range:\", range)"
   ]
  },
  {
   "cell_type": "markdown",
   "id": "edf9bd74-c1a7-4586-a3d2-4e685e3fcdaf",
   "metadata": {},
   "source": [
    "## What is Variance?\n",
    "- Variance is a measure of the spread or dispersion of data points in a dataset relative to their mean.\n",
    "- Formula: $ \\sigma^2 = \\frac{\\sum_{i=1}^{n}(x_i - \\bar{x})^2}{n-1} $"
   ]
  },
  {
   "cell_type": "code",
   "execution_count": 3,
   "id": "2cddf423-dacd-4aa1-ab1c-b6c9c81fdd57",
   "metadata": {},
   "outputs": [
    {
     "name": "stdout",
     "output_type": "stream",
     "text": [
      "Variance: 804.94\n"
     ]
    }
   ],
   "source": [
    "work_week_hrs = df['WorkWeekHrs']\n",
    "variance = work_week_hrs.var()\n",
    "print(\"Variance:\", round(variance, 2))"
   ]
  },
  {
   "cell_type": "markdown",
   "id": "c8818919-9b25-4e13-a187-61e087355ef7",
   "metadata": {},
   "source": [
    "## What is Standard Deviation?\n",
    "- Standard deviation is the square root of the variance.\n",
    "- Unit: The unit of standard deviation is the same as the unit of the original data."
   ]
  },
  {
   "cell_type": "code",
   "execution_count": 4,
   "id": "4291eed3-e4f8-415b-b822-9c5651fdaeb6",
   "metadata": {},
   "outputs": [
    {
     "name": "stdout",
     "output_type": "stream",
     "text": [
      "Standard Deviation: 28.371485270788842\n"
     ]
    }
   ],
   "source": [
    "standard_deviation = work_week_hrs.std()\n",
    "print(\"Standard Deviation:\", standard_deviation)"
   ]
  },
  {
   "cell_type": "markdown",
   "id": "19d855c2-054a-46a8-8c97-37c5405e25c0",
   "metadata": {},
   "source": [
    "## What is Coefficient of variation?\n",
    "- The coefficient of variation (CV) is a relative measure of variability that expresses the standard deviation as a percentage of the mean.\n",
    "It is a useful statistic when comparing the variability of data sets with different units or scales."
   ]
  },
  {
   "cell_type": "code",
   "execution_count": 5,
   "id": "9cf87658-3ef7-4108-8331-c33cdde9a33c",
   "metadata": {},
   "outputs": [
    {
     "name": "stdout",
     "output_type": "stream",
     "text": [
      "Coefficient of Variation 59.939757614342625\n"
     ]
    }
   ],
   "source": [
    "mean = work_week_hrs.mean()\n",
    "std_deviation = work_week_hrs.std()\n",
    "coefficient_of_variation = (std_deviation / mean) * 100\n",
    "print(\"Coefficient of Variation\", coefficient_of_variation)"
   ]
  }
 ],
 "metadata": {
  "kernelspec": {
   "display_name": "Python 3 (ipykernel)",
   "language": "python",
   "name": "python3"
  },
  "language_info": {
   "codemirror_mode": {
    "name": "ipython",
    "version": 3
   },
   "file_extension": ".py",
   "mimetype": "text/x-python",
   "name": "python",
   "nbconvert_exporter": "python",
   "pygments_lexer": "ipython3",
   "version": "3.10.12"
  }
 },
 "nbformat": 4,
 "nbformat_minor": 5
}
