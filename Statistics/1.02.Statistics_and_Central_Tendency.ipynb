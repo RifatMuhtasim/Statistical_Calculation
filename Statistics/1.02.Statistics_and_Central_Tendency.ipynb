{
 "cells": [
  {
   "cell_type": "markdown",
   "id": "829e4fcd-c9b1-4470-9dcb-7953c011cf7d",
   "metadata": {},
   "source": [
    "# What is Statistics?\n",
    "- Statistics is Scientific method for collecting, organizing, summarizing, analyzing, presenting sample data as well as drawing conclusion about population."
   ]
  },
  {
   "cell_type": "code",
   "execution_count": null,
   "id": "7afb2c78-3356-4bb1-aa1c-be6a09d6cc5b",
   "metadata": {},
   "outputs": [],
   "source": []
  }
 ],
 "metadata": {
  "kernelspec": {
   "display_name": "Python 3 (ipykernel)",
   "language": "python",
   "name": "python3"
  },
  "language_info": {
   "codemirror_mode": {
    "name": "ipython",
    "version": 3
   },
   "file_extension": ".py",
   "mimetype": "text/x-python",
   "name": "python",
   "nbconvert_exporter": "python",
   "pygments_lexer": "ipython3",
   "version": "3.10.12"
  }
 },
 "nbformat": 4,
 "nbformat_minor": 5
}
