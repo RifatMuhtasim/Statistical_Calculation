{
 "cells": [
  {
   "cell_type": "markdown",
   "id": "829e4fcd-c9b1-4470-9dcb-7953c011cf7d",
   "metadata": {},
   "source": [
    "# What is Statistics?\n",
    "- Statistics is a scientific method for collecting, organizing, summarizing, analyzing, and presenting sample data as well as drawing conclusions about the population. "
   ]
  },
  {
   "cell_type": "markdown",
   "id": "72b20e0b-0107-4fe0-9a8e-ff79c485aecf",
   "metadata": {},
   "source": [
    "## What is population? \n",
    "- All Individuals or items under investigation are known as population.\n",
    "\n",
    "## What is Sample?\n",
    "- A Small but representative part of the population which has been drawn or selected is called a sample.\n",
    "\n",
    "## Write down the types of Data.\n",
    "Link: https://intellspot.com/wp-content/uploads/2018/08/Types-of-Data-Infographic.png",
    "<img src=\"https://intellspot.com/wp-content/uploads/2018/08/Types-of-Data-Infographic.png\" />"
   ]
  },
  {
   "cell_type": "markdown",
   "id": "824689e8-1355-4065-96bf-1a631732c742",
   "metadata": {},
   "source": [
    "## What is Mean?\n",
    "- The mean, also known as the average, is a measure of central tendency in statistics. It is calculated by summing up all the values in a dataset and then dividing the sum by the total number of values.\n",
    "\n",
    "- Mean = $ \\frac{\\text{Number of Values}} {\\text{Sum of all values}} = \\frac{\\sum x_i}{n}$\n",
    "\n",
    "- CSV Data Link: https://github.com/User-zwj/Pandas-Practice/blob/master/survey_results_public.csv"
   ]
  },
  {
   "cell_type": "code",
   "execution_count": 1,
   "id": "126251bb-3290-433c-b949-a7b42f55b664",
   "metadata": {},
   "outputs": [
    {
     "name": "stdout",
     "output_type": "stream",
     "text": [
      "Mean: 94466.81\n"
     ]
    }
   ],
   "source": [
    "import pandas as pd\n",
    "import numpy as np\n",
    "\n",
    "pd.set_option(\"display.max_columns\", None)\n",
    "df = pd.read_csv(\"https://raw.githubusercontent.com/User-zwj/Pandas-Practice/master/survey_results_public.csv\")\n",
    "\n",
    "salary = df['ConvertedComp']\n",
    "mean = salary.mean()\n",
    "print(\"Mean:\", round(mean, 2))"
   ]
  },
  {
   "cell_type": "markdown",
   "id": "aa10cd18-29dc-4afb-91c5-d2e6ad1c74b6",
   "metadata": {},
   "source": [
    "## What is Median?\n",
    "- The median is the middle value in a sorted list of numbers, either in ascending or descending order. It is a measure of central tendency that separates the higher half from the lower half of a data.\n",
    "- The median is particularly useful because it's not affected by extreme values (outliers)."
   ]
  },
  {
   "cell_type": "code",
   "execution_count": 2,
   "id": "149e53e1-6f4c-4132-8931-fa9a00dcc84f",
   "metadata": {},
   "outputs": [
    {
     "name": "stdout",
     "output_type": "stream",
     "text": [
      "Median: 59030.0\n"
     ]
    }
   ],
   "source": [
    "median = salary.median()\n",
    "print(\"Median:\", median)"
   ]
  },
  {
   "cell_type": "markdown",
   "id": "b6cfef44-1b61-47dc-84e5-218e54435eb7",
   "metadata": {},
   "source": [
    "## What is Mode?\n",
    "- The mode is the value that appears most frequently in a dataset. "
   ]
  },
  {
   "cell_type": "code",
   "execution_count": 3,
   "id": "8b9419f4-6c56-4d97-901e-68b78d8cae86",
   "metadata": {},
   "outputs": [
    {
     "name": "stdout",
     "output_type": "stream",
     "text": [
      "Mode: 22.0\n"
     ]
    }
   ],
   "source": [
    "mode = df['Age'].mode()[0]\n",
    "print(\"Mode:\", mode )"
   ]
  },
  {
   "cell_type": "markdown",
   "id": "9fdb771c-62fe-4249-af80-cb2942d97788",
   "metadata": {},
   "source": [
    "## What is Weighted Mean?\n",
    "- The weighted mean is a type of mean that is calculated by multiplying the weight associated with a particular event or outcome with its associated quantitative outcome and then summing all the products together.\n",
    "- $ \\text{Weighted Mean} = \\frac{\\sum_{i=1}^{n} (x_i \\times w_i)}{\\sum_{i=1}^{n} w_i} $\n",
    "- Weighted Mean CGPA = $ \\frac{(3.5 * 3) + (3.8 * 4) + (4.0 * 3) + (3.2 * 3) + (3.9 * 4)} {(3 + 4 + 3 + 3 + 4)} = \\frac{63.9}{ 17} = 3.76 $"
   ]
  },
  {
   "cell_type": "code",
   "execution_count": 4,
   "id": "fb02bf2a-34f5-43e8-bc20-0269a454aa65",
   "metadata": {},
   "outputs": [
    {
     "name": "stdout",
     "output_type": "stream",
     "text": [
      "Weighted Mean (CGPA): 3.7\n"
     ]
    }
   ],
   "source": [
    "Json_data = {  \n",
    "                'CGPA': [3.5, 3.8, 4.0, 3.2, 3.9], # x_i value \n",
    "                'Credit': [3, 4, 3, 3, 4] # w_i value  \n",
    "}\n",
    "\n",
    "cgpa_data = pd.DataFrame(Json_data)\n",
    "weighted_mean = (cgpa_data['CGPA'] * cgpa_data['Credit']).sum() / cgpa_data['Credit'].sum()\n",
    "print(\"Weighted Mean (CGPA):\", weighted_mean)"
   ]
  },
  {
   "cell_type": "markdown",
   "id": "5ee0f9d5-c200-4d7f-891c-01ebd624f245",
   "metadata": {},
   "source": [
    "## What is Trimmed Mean?\n",
    "- The trimmed mean, also known as the truncated mean, is a statistical measure of central tendency that involves calculating the mean after discarding a certain percentage of the highest and lowest values in a dataset."
   ]
  },
  {
   "cell_type": "code",
   "execution_count": 5,
   "id": "5469e174-415d-488f-aeb7-6282748c2319",
   "metadata": {},
   "outputs": [
    {
     "name": "stdout",
     "output_type": "stream",
     "text": [
      "Trim Count is: 5\n",
      "Trimmed Salay Mean:  130424.73\n"
     ]
    }
   ],
   "source": [
    "# Define the percentage of data to trim from each end\n",
    "trim_percentage = 20 # Trim 20% from each end\n",
    "\n",
    "# Sort the data\n",
    "sorted_salary = salary.sort_values()\n",
    "\n",
    "# Calculate the number of data points to trim from each end\n",
    "trim_count = int(len(sorted_salary) * (trim_percentage/100))\n",
    "print(\"Trim Count is:\", trim_count)\n",
    "\n",
    "# Trim the data by removing the specified number of points from each end\n",
    "trimmed_salary_list = sorted_salary.iloc[trim_count:-trim_count]\n",
    "\n",
    "# Calculate the trimmed salary meam\n",
    "trimmed_salary_mean = trimmed_salary_list.mean()\n",
    "print(\"Trimmed Salay Mean: \", round(trimmed_salary_mean, 2))"
   ]
  }
 ],
 "metadata": {
  "kernelspec": {
   "display_name": "Python 3 (ipykernel)",
   "language": "python",
   "name": "python3"
  },
  "language_info": {
   "codemirror_mode": {
    "name": "ipython",
    "version": 3
   },
   "file_extension": ".py",
   "mimetype": "text/x-python",
   "name": "python",
   "nbconvert_exporter": "python",
   "pygments_lexer": "ipython3",
   "version": "3.10.12"
  }
 },
 "nbformat": 4,
 "nbformat_minor": 5
}
