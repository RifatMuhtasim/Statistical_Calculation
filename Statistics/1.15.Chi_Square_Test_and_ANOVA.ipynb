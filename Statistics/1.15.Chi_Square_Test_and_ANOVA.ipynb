{
 "cells": [
  {
   "cell_type": "code",
   "execution_count": 26,
   "id": "14dc8fae-d93c-42e8-97c2-69a093fbd35a",
   "metadata": {},
   "outputs": [],
   "source": [
    "import numpy as np\n",
    "from scipy import stats"
   ]
  },
  {
   "cell_type": "markdown",
   "id": "49167efe-5c2f-4986-a7be-500e969a3a9c",
   "metadata": {
    "jp-MarkdownHeadingCollapsed": true
   },
   "source": [
    "# Chi Square Test"
   ]
  },
  {
   "cell_type": "markdown",
   "id": "e3a5f920-f423-4492-bff8-36dfa850c169",
   "metadata": {},
   "source": [
    "Youtube Link: https://www.youtube.com/watch?v=HKDqlYSLt68\n",
    "\n",
    "Chi-square (χ²) is a statistical test and a probability distribution used in hypothesis testing and data analysis, particularly in the field of statistics. It is employed to determine if there is a significant association or relationship between two categorical variables in a dataset. The chi-square test is used to evaluate whether the observed distribution of data significantly differs from the expected distribution under a specific hypothesis.\n",
    "\n",
    "There are two common types of chi-square tests:\n",
    "\n",
    "1. **Chi-square goodness-of-fit test**: This test is used when you want to determine if an observed categorical distribution fits an expected theoretical distribution. It answers questions like, \"Does the observed data fit the expected proportions?\"\n",
    "\n",
    "2. **Chi-square test of independence**: This test is used to assess if there is a significant association between two categorical variables. It helps answer questions like, \"Are these two categorical variables independent of each other or related?\"\n",
    "\n",
    "Here's a brief overview of how each test works:\n",
    "\n",
    "- **Chi-square goodness-of-fit test**: In this test, you have one categorical variable, and you compare the observed frequencies (counts) of each category to the expected frequencies that you would expect if a particular hypothesis were true. The chi-square statistic quantifies how much the observed frequencies deviate from the expected frequencies.\n",
    "\n",
    "- **Chi-square test of independence**: In this test, you have two categorical variables, and you want to determine if they are related or independent of each other. You create a contingency table that shows the joint distribution of the two variables, and then you calculate the chi-square statistic to test whether the observed frequencies in the table differ significantly from what would be expected if the variables were independent.\n",
    "\n"
   ]
  },
  {
   "cell_type": "markdown",
   "id": "49a2ea8a-1a7c-4aa5-81c3-06d93628eccc",
   "metadata": {},
   "source": [
    "## Chi Square Goodness of Fit"
   ]
  },
  {
   "cell_type": "markdown",
   "id": "58911ffc-27b5-4258-bfb1-b87ce36b85ae",
   "metadata": {},
   "source": [
    "Youtube: https://www.youtube.com/watch?v=ZNXso_riZag&t=22s\n",
    "\n",
    "The Chi-square goodness of fit test is a statistical test used to determine whether an observed frequency distribution of categorical data fits a specified theoretical distribution. In other words, it assesses whether the observed data is consistent with what we would expect under a certain hypothesis or theoretical model.\n",
    "\n",
    "Here are the key components and steps involved in a Chi-square goodness of fit test:\n",
    "\n",
    "Hypotheses:\n",
    "\n",
    "Null Hypothesis (H0): The observed data follows a specified theoretical distribution. In other words, there is no significant difference between the observed and expected frequencies. <br/>\n",
    "Alternative Hypothesis (H1): The observed data does not follow the specified theoretical distribution. There is a significant difference between the observed and expected frequencies."
   ]
  },
  {
   "cell_type": "markdown",
   "id": "4f22d8fe-209f-49b7-8e38-b69d696bc2ef",
   "metadata": {},
   "source": [
    "Certainly, here's another problem involving the Chi-square goodness of fit test:\n",
    "\n",
    "**Problem:**\n",
    "A university claims that the distribution of its undergraduate students by major follows a certain national average distribution. According to the national average, the distribution of undergraduate majors is as follows:\n",
    "- 30% Business\n",
    "- 25% Engineering\n",
    "- 20% Social Sciences\n",
    "- 15% Natural Sciences\n",
    "- 10% Arts and Humanities\n",
    "\n",
    "To investigate whether the university's student distribution matches the national average, a random sample of 400 undergraduate students is selected, and their majors are recorded. The results are as follows:\n",
    "\n",
    "- Business: 120 students\n",
    "- Engineering: 90 students\n",
    "- Social Sciences: 70 students\n",
    "- Natural Sciences: 65 students\n",
    "- Arts and Humanities: 55 students\n",
    "\n",
    "Perform a Chi-square goodness of fit test to determine if the university's distribution of majors is significantly different from the national average distribution at a 5% level of significance.\n",
    "\n",
    "**Solution:**\n",
    "\n",
    "To solve this problem, follow these steps:\n",
    "\n",
    "1. Set up the null (H0) and alternative (H1) hypotheses:\n",
    "   - H0 (Null Hypothesis): The distribution of the university's undergraduate students by major matches the national average distribution (30% Business, 25% Engineering, 20% Social Sciences, 15% Natural Sciences, 10% Arts and Humanities).\n",
    "   - H1 (Alternative Hypothesis): The distribution of the university's undergraduate students by major does not match the national average distribution.\n",
    "\n",
    "2. Calculate the expected number of students for each major based on the national average distribution and the total number of students (400 in this case).\n",
    "\n",
    "3. Calculate the Chi-square statistic.\n",
    "\n",
    "4. Determine the degrees of freedom (number of categories - 1) and find the critical value of Chi-square for a 5% level of significance.\n",
    "\n",
    "5. Compare the calculated Chi-square statistic with the critical value and make a decision regarding the null hypothesis.\n",
    "\n",
    "If the calculated Chi-square statistic exceeds the critical value, you would reject the null hypothesis, indicating that the distribution of the university's undergraduate students by major is significantly different from the national average distribution.\n",
    "\n",
    "You can then perform the calculations and conduct the Chi-square goodness of fit test to determine whether the university's distribution of majors is significantly different from the national average based on the sample data."
   ]
  },
  {
   "cell_type": "code",
   "execution_count": 12,
   "id": "973fc105-40e4-4368-aef0-611fab9afea2",
   "metadata": {},
   "outputs": [
    {
     "name": "stdout",
     "output_type": "stream",
     "text": [
      "Expected Table: [120. 100.  80.  60.  40.]\n",
      "Chi Square Statistics is: 8.291666666666666\n",
      "Degress of Freedom: 4\n",
      "Critical Value: 9.487729036781154\n",
      "P-Value: 0.08145976939917328\n",
      "Fail to reject the null hypothesis. The distribution of majors is not significantly different from the national average.\n"
     ]
    }
   ],
   "source": [
    "# Solve this Problem\n",
    "# Observed frequencies\n",
    "observed = np.array([120, 90, 70, 65, 55])\n",
    "\n",
    "# Expected frequencies based on the national average distribution\n",
    "expected = np.array([0.30, 0.25, 0.20, 0.15, 0.10]) * 400\n",
    "print(\"Expected Table:\", expected)\n",
    "\n",
    "# Perform the Chi-square goodness of fit test\n",
    "chi2, p = stats.chisquare(observed, f_exp=expected)\n",
    "\n",
    "# Define the significance level\n",
    "alpha = 0.05\n",
    "\n",
    "# Calculate the critical value from the Chi-square distribution\n",
    "dof = len(observed) - 1\n",
    "critical_value_chi2 = stats.chi2.ppf(1 - alpha, dof)\n",
    "\n",
    "# Print the Result\n",
    "print(\"Chi Square Statistics is:\", chi2)\n",
    "print(\"Degress of Freedom:\", dof)\n",
    "print(\"Critical Value:\", critical_value_chi2)\n",
    "print(\"P-Value:\", p)\n",
    "\n",
    "# Compare the chi-square statistic with the critical value\n",
    "if chi2 > critical_value_chi2:\n",
    "    print(\"Reject the null hypothesis. The distribution of majors is significantly different from the national average.\")\n",
    "else:\n",
    "    print(\"Fail to reject the null hypothesis. The distribution of majors is not significantly different from the national average.\")"
   ]
  },
  {
   "cell_type": "markdown",
   "id": "9cbf23b9-5785-4c70-88bb-bc5e9a57d71d",
   "metadata": {},
   "source": [
    "## Chi Square Test of Independence"
   ]
  },
  {
   "cell_type": "markdown",
   "id": "a604a156-9a5d-488d-8bfa-5b1305ca24ee",
   "metadata": {},
   "source": [
    "Youtube Link: https://www.youtube.com/watch?v=NTHA9Qa81R8"
   ]
  },
  {
   "cell_type": "markdown",
   "id": "6eaccb71-a50f-4144-a8fe-057967ee0fca",
   "metadata": {},
   "source": [
    "**Problem:**\n",
    "A research study is conducted to investigate whether there is a relationship between gender (male or female) and the preference for two different types of sports: basketball and soccer. A random sample of 200 individuals is selected, and their preferences are recorded in the following contingency table:\n",
    "\n",
    "```\n",
    "                Basketball   Soccer\n",
    "Male              50          30\n",
    "Female            40          80\n",
    "```\n",
    "\n",
    "Perform a chi-square test of independence to determine if there is a significant association between gender and sports preference at a 5% level of significance.\n",
    "\n",
    "**Solution:**\n",
    "\n",
    "To solve this problem, we will follow these steps:\n",
    "\n",
    "1. Set up the null (H0) and alternative (H1) hypotheses:\n",
    "   - H0 (Null Hypothesis): Gender and sports preference are independent (i.e., there is no relationship between them).\n",
    "   - H1 (Alternative Hypothesis): Gender and sports preference are dependent (i.e., there is a relationship between them).\n"
   ]
  },
  {
   "cell_type": "code",
   "execution_count": 7,
   "id": "68439ed2-de17-494e-aa71-1b05b12b5f5f",
   "metadata": {},
   "outputs": [
    {
     "name": "stdout",
     "output_type": "stream",
     "text": [
      "Chi2 Square vaule is: 15.34090909090909\n",
      "P-Value is: 8.975175678418872e-05\n",
      "Critical value is: 5.023886187314888\n",
      "Degress of Freedom: 1\n",
      "Reject the Null Hypothesis. There is a significant association between gender and sports preference.\n"
     ]
    }
   ],
   "source": [
    "# Solve this Problem\n",
    "# Create the observed contingency table\n",
    "observed = np.array([[50, 30],\n",
    "                    [40, 80]])\n",
    "\n",
    "# Perform the chi-square test of independence (stats.chi2_contingency)\n",
    "chi2, p, dof, expected = stats.chi2_contingency(observed)\n",
    "\n",
    "# Define the significance level\n",
    "alpha = 0.05\n",
    "\n",
    "# Calculate the critical value from the chi-square distribution\n",
    "chi2_critical_value = stats.chi2.ppf(1 - alpha/2, dof)\n",
    "\n",
    "# Print the result\n",
    "print(\"Chi2 Square vaule is:\", chi2)\n",
    "print(\"P-Value is:\", p)\n",
    "print(\"Critical value is:\", chi2_critical_value)\n",
    "print(\"Degress of Freedom:\", dof)\n",
    "\n",
    "# Conclusion\n",
    "if chi2 < chi2_critical_value:\n",
    "    print(\"Fail to Reject then Null Hypothesis. There is no significant association between gender and sports preference.\")\n",
    "else:\n",
    "    print(\"Reject the Null Hypothesis. There is a significant association between gender and sports preference.\")"
   ]
  },
  {
   "cell_type": "markdown",
   "id": "cc79d908-5324-4d4d-bc74-195524589725",
   "metadata": {
    "jp-MarkdownHeadingCollapsed": true
   },
   "source": [
    "# ANOVA"
   ]
  },
  {
   "cell_type": "markdown",
   "id": "e9627114-4ad7-4ffb-872e-fbac1c439757",
   "metadata": {},
   "source": [
    "Youtube: https://www.youtube.com/watch?v=0NwA9xxxtHw&t=11s <br/>\n",
    "ANOVA stands for \"Analysis of Variance,\" and it is a statistical technique used to analyze the differences among group means in a sample. ANOVA is particularly useful when you want to compare the means of three or more groups to determine whether there are statistically significant differences between them. It helps you answer questions like:\n",
    "\n",
    "Are there any significant differences between the means of multiple groups? <br/>\n",
    "Which group or groups are significantly different from the others? <br/>\n",
    "Is there more variation within groups or between groups? <br/>"
   ]
  },
  {
   "cell_type": "markdown",
   "id": "8593d3af-4df6-4d94-8977-75415828ab46",
   "metadata": {
    "jp-MarkdownHeadingCollapsed": true
   },
   "source": [
    "## One Way ANOVA"
   ]
  },
  {
   "cell_type": "markdown",
   "id": "9b0e36c8-83f7-4352-afe9-9e024908f3d2",
   "metadata": {},
   "source": [
    "Youtube: https://www.youtube.com/watch?v=9cnSWads6oo\n",
    "\n",
    "\n",
    "One-way ANOVA, or one-way analysis of variance, is a statistical technique used to compare the means of three or more independent (unrelated) groups to determine whether there are statistically significant differences among them. It is a parametric test, which means it makes certain assumptions about the data, including the assumption of normality and homogeneity of variances. Here are the key components and steps involved in conducting a one-way ANOVA:\n",
    "\n",
    "Groups or Categories: You have one independent variable (factor) that categorizes the data into three or more groups. These groups represent different levels, treatments, or categories of the factor. For example, if you are studying the effect of different teaching methods on student test scores, the groups could be different teaching methods (e.g., Method A, Method B, Method C).\n",
    "\n",
    "Null Hypothesis (H0): The null hypothesis in a one-way ANOVA states that there are no statistically significant differences among the group means. In other words, all groups have the same population mean.\n",
    "\n",
    "Alternative Hypothesis (Ha): The alternative hypothesis suggests that there is at least one group with a different population mean compared to the others."
   ]
  },
  {
   "cell_type": "markdown",
   "id": "383e43cb-9855-498c-8d91-7e8f6f56d960",
   "metadata": {},
   "source": [
    "\n",
    "### Problem Statement:\n",
    "\n",
    "A researcher wants to determine whether three different fertilizers (Fertilizer A, Fertilizer B, and Fertilizer C) have a statistically significant effect on the growth of tomato plants. To test this, the researcher randomly selects 30 tomato plants and divides them into three groups, with each group receiving a different fertilizer treatment. After six weeks, the heights of the tomato plants are measured. The data is as follows (in centimeters):\n",
    "\n",
    "**Fertilizer A:** 28, 29, 31, 30, 32, 30, 28, 31, 32, 29\n",
    "\n",
    "**Fertilizer B:** 26, 25, 24, 27, 28, 26, 25, 27, 26, 28\n",
    "\n",
    "**Fertilizer C:** 35, 34, 36, 34, 35, 36, 33, 35, 34, 36\n",
    "\n",
    "Conduct a one-way ANOVA to determine if there are any statistically significant differences in tomato plant growth among the three fertilizer treatments. Use a significance level of 0.05.\n",
    "\n",
    "**Solution:**\n",
    "\n",
    "To solve this problem, you would follow these steps:\n",
    "\n",
    "1. **Set up Hypotheses:**\n",
    "   - Null Hypothesis (H0): There is no significant difference in tomato plant growth among the three fertilizer treatments (μ1 = μ2 = μ3).\n",
    "   - Alternative Hypothesis (Ha): There is a significant difference in tomato plant growth among the three fertilizer treatments (at least one μi is different).\n",
    "\n",
    "2. **Perform the ANOVA Test:** Using statistical software or a calculator, compute the one-way ANOVA. The software will provide you with the F-statistic and its associated p-value.\n",
    "\n",
    "3. **Determine Significance:** Compare the calculated p-value to the chosen significance level (α = 0.05). If the p-value is less than 0.05, you would reject the null hypothesis.\n"
   ]
  },
  {
   "cell_type": "code",
   "execution_count": 4,
   "id": "ab8e60d0-db24-496f-8285-e8d79e32c583",
   "metadata": {},
   "outputs": [
    {
     "name": "stdout",
     "output_type": "stream",
     "text": [
      "F Statistic: 110.9469026548673\n",
      "P-Value: 9.489004073242531e-14\n",
      "Reject the null hypothesis: There is a significant difference in tomato plant growth among the fertilizer treatments.\n"
     ]
    }
   ],
   "source": [
    "# Solve this Problem\n",
    "# Data for each fertilizer treatment\n",
    "fertilizer_a = np.array([28, 29, 31, 30, 32, 30, 28, 31, 32, 29])\n",
    "fertilizer_b = np.array([26, 25, 24, 27, 28, 26, 25, 27, 26, 28])\n",
    "fertilizer_c = np.array([35, 34, 36, 34, 35, 36, 33, 35, 34, 36])\n",
    "\n",
    "# Set the significance level\n",
    "alpha = 0.05\n",
    "\n",
    "# Perform One Way ANOVA\n",
    "f_statistic, p_value = stats.f_oneway(fertilizer_a, fertilizer_b, fertilizer_c)\n",
    "print(\"F Statistic:\", f_statistic)\n",
    "print(\"P-Value:\", p_value)\n",
    "\n",
    "# Interpret Result\n",
    "if p_value < alpha:\n",
    "    print(\"Reject the null hypothesis: There is a significant difference in tomato plant growth among the fertilizer treatments.\")\n",
    "else:\n",
    "    print(\"Fail to Reject the null hypothesis:  There is no significant difference in tomato plant growth among the fertilizer treatments.\")"
   ]
  },
  {
   "cell_type": "markdown",
   "id": "2ed4e4b6-9c87-4b39-a689-7938aa1f4703",
   "metadata": {},
   "source": [
    "## Two Way ANOVA"
   ]
  },
  {
   "cell_type": "markdown",
   "id": "04e809ee-2d1d-4de9-8b39-c91874d43d6a",
   "metadata": {},
   "source": [
    "Youtube: https://www.youtube.com/watch?v=SnlOUfT55So <br/>\n",
    "Youtube 2: https://www.youtube.com/watch?v=0K-bfzLTRiY\n",
    "\n",
    "ANOVA stands for analysis of variance and tests for differences in the effects of independent variables on a dependent variable. A two-way ANOVA test is a statistical test used to determine the effect of two nominal predictor variables on a continuous outcome variable.\n",
    "\n",
    "A two-way ANOVA tests the effect of two independent variables on a dependent variable.\n",
    "1\n",
    " A two-way ANOVA test analyzes the effect of the independent variables on the expected outcome along with their relationship to the outcome itself. Random factors would be considered to have no statistical influence on a data set, while systematic factors would be considered to have statistical significance."
   ]
  },
  {
   "cell_type": "markdown",
   "id": "58e6dac5-2bc8-4641-a25c-83e2c80b8be3",
   "metadata": {},
   "source": [
    "### Problem Statement:\n",
    "\n",
    "A researcher is investigating the effects of two factors, \"Type of Diet\" and \"Exercise Regimen,\" on weight loss in a weight management study. The study participants are divided into four groups based on the combination of diet type and exercise regimen. The researcher wants to determine whether both factors, individually and interactively, have a significant impact on weight loss.\n",
    "\n",
    "The four groups are as follows:\n",
    "\n",
    "Group A: High Protein Diet + High-Intensity Exercise <br/>\n",
    "Group B: High Protein Diet + Low-Intensity Exercise <br/>\n",
    "Group C: Low Protein Diet + High-Intensity Exercise <br/>\n",
    "Group D: Low Protein Diet + Low-Intensity Exercise <br/>"
   ]
  },
  {
   "cell_type": "code",
   "execution_count": 24,
   "id": "010887d3-d8c0-413b-9369-7ec42042e806",
   "metadata": {},
   "outputs": [
    {
     "name": "stdout",
     "output_type": "stream",
     "text": [
      "Two-Way ANOVA Results:\n",
      "F-statistic: 348.26798850063767\n",
      "P-value: 7.889602812416034e-58\n",
      "Reject the null hypothesis: There is a significant difference in weight loss based on the Type of Diet or Exercise Regimen.\n"
     ]
    }
   ],
   "source": [
    "# Solve this Problem\n",
    "# Define the data for each group\n",
    "group_a = np.array([10.5, 11.2, 9.8, 11.0, 10.7, 9.5, 10.9, 11.4, 11.8, 10.2, 9.7, 11.5, 10.3, 11.1, 10.8, 10.6, 11.3, 10.4, 11.7, 9.9, 11.6, 10.1, 11.9, 10.0, 10.0, 11.0, 10.5, 11.2, 10.6, 11.4])\n",
    "group_b = np.array([8.5, 8.2, 8.9, 8.3, 8.6, 8.1, 8.8, 8.7, 8.4, 8.0, 8.5, 8.2, 8.7, 8.6, 8.3, 8.9, 8.4, 8.8, 8.5, 8.1, 8.6, 8.3, 8.2, 8.7, 8.0, 8.5, 8.4, 8.6, 8.8, 8.1])\n",
    "group_c = np.array([9.0, 9.4, 9.2, 9.7, 9.5, 9.1, 9.6, 9.3, 9.8, 9.9, 9.0, 9.7, 9.2, 9.4, 9.3, 9.6, 9.8, 9.1, 9.5, 9.2, 9.7, 9.0, 9.4, 9.3, 9.6, 9.9, 9.1, 9.5, 9.3, 9.8])\n",
    "group_d = np.array([7.5, 7.8, 7.3, 7.6, 7.9, 7.2, 7.5, 7.4, 7.7, 7.6, 7.8, 7.3, 7.5, 7.4, 7.9, 7.7, 7.6, 7.2, 7.5, 7.4, 7.8, 7.6, 7.9, 7.3, 7.5, 7.4, 7.7, 7.6, 7.8, 7.3])\n",
    "\n",
    "# Combine data into a single array\n",
    "all_data = np.concatenate([group_a, group_b, group_c, group_d])\n",
    "\n",
    "# Create factors for Type of Diet and Exercise Regimen\n",
    "diet_factors = np.array([\"High Protein\", \"High Protein\", \"Low Protein\", \"Low Protein\"])\n",
    "exercise_factors = np.array([\"High Intensity\", \"Low Intensity\", \"High Intensity\", \"Low Intensity\"])\n",
    "\n",
    "# Set the Level of significance\n",
    "alpha = 0.05\n",
    "\n",
    "# Perform two-way ANOVA\n",
    "f_statistic, p_value = stats.f_oneway(group_a, group_b, group_c, group_d)\n",
    "\n",
    "# Print results and interpret\n",
    "print(\"Two-Way ANOVA Results:\")\n",
    "print(\"F-statistic:\", f_statistic)\n",
    "print(\"P-value:\", p_value)\n",
    "\n",
    "# Interpret the Result\n",
    "if p_value < alpha:\n",
    "    print(\"Reject the null hypothesis: There is a significant difference in weight loss based on the Type of Diet or Exercise Regimen.\")\n",
    "else:\n",
    "    print(\"Fail to reject the null hypothesis: There is no significant difference in weight loss based on the Type of Diet or Exercise Regimen.\")"
   ]
  },
  {
   "cell_type": "markdown",
   "id": "1e5ae16f-0a07-4fa7-b6d7-26fcf5b960c3",
   "metadata": {},
   "source": [
    "# F Test"
   ]
  },
  {
   "cell_type": "markdown",
   "id": "fe172573-99f5-4152-ba00-88f71038fb2e",
   "metadata": {},
   "source": [
    "The F-test, also known as the Fisher's F-test, is a statistical hypothesis test used to compare the variances or standard deviations of two or more groups or samples. It assesses whether the variances among the groups are statistically significantly different. The F-test is a fundamental tool in statistics and is often used in analysis of variance (ANOVA) and regression analysis.\n",
    "\n",
    "There are two main types of F-tests:\n",
    "\n",
    "Two-Sample F-Test (F-Test for Variances): This type of F-test is used to compare the variances of two independent samples or populations. It helps determine whether the variability in one sample is significantly greater or smaller than the variability in another sample. The null hypothesis (H0) typically states that the variances are equal.<br/>\n",
    "Example: Comparing the variances of test scores in two different schools to see if one school has significantly more variability in scores than the other.\n",
    "\n",
    "ANOVA F-Test (Analysis of Variance F-Test): This type of F-test is used to compare the means of two or more groups or samples to determine if there are significant differences among them. It is commonly used to test whether the groups have similar population means. The null hypothesis (H0) typically states that all group means are equal. <br/>\n",
    "Example: Comparing the mean test scores of students in multiple classes or comparing the effects of different treatments on a group of patients."
   ]
  },
  {
   "cell_type": "code",
   "execution_count": 30,
   "id": "de3f986e-ed8c-4014-8b7e-d88ea4450b0b",
   "metadata": {},
   "outputs": [
    {
     "name": "stdout",
     "output_type": "stream",
     "text": [
      "Fail to reject the null hypothesis. The variances are not significantly different.\n",
      "F-statistic: 1.0\n",
      "p-value: 0.5210508807675736\n"
     ]
    }
   ],
   "source": [
    "# Two Sample F Test\n",
    "# Generate two sample data arrays (replace these with your actual data)\n",
    "sample1 = np.array([15, 18, 22, 25, 30])\n",
    "sample2 = np.array([12, 16, 20, 24, 28])\n",
    "\n",
    "# Calculate the variances of the two samples\n",
    "variance1 = np.var(sample1, ddof=1)\n",
    "variance2 = np.var(sample1, ddof=1)\n",
    "\n",
    "# Calculate the F-statistic\n",
    "F_statistic = variance1 / variance2\n",
    "\n",
    "# Define the degrees of freedom for each sample\n",
    "df1 = len(sample1) -1\n",
    "df2 = len(sample2) -2\n",
    "\n",
    "# Calculated The P Value\n",
    "p_value = 1 - stats.f.cdf(F_statistic, df1, df2)\n",
    "\n",
    "# Set the significance level\n",
    "alpha = 0.05\n",
    "\n",
    "# Compare the p-value to the significance level\n",
    "if p_value < alpha:\n",
    "    print(f'Reject the null hypothesis. The variances are significantly different.')\n",
    "else:\n",
    "    print(f'Fail to reject the null hypothesis. The variances are not significantly different.')\n",
    "\n",
    "# Print the results\n",
    "print(f'F-statistic: {F_statistic}')\n",
    "print(f'p-value: {p_value}')"
   ]
  },
  {
   "cell_type": "markdown",
   "id": "d4378e71-5cf9-473e-b76f-e2ec239d654e",
   "metadata": {},
   "source": [
    "Youtube : https://www.youtube.com/watch?v=YrhlQB3mQFI&t=28s"
   ]
  }
 ],
 "metadata": {
  "kernelspec": {
   "display_name": "Python 3 (ipykernel)",
   "language": "python",
   "name": "python3"
  },
  "language_info": {
   "codemirror_mode": {
    "name": "ipython",
    "version": 3
   },
   "file_extension": ".py",
   "mimetype": "text/x-python",
   "name": "python",
   "nbconvert_exporter": "python",
   "pygments_lexer": "ipython3",
   "version": "3.11.2"
  }
 },
 "nbformat": 4,
 "nbformat_minor": 5
}
