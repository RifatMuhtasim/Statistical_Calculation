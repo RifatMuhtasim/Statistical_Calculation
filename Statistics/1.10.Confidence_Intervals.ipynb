{
 "cells": [
  {
   "cell_type": "code",
   "execution_count": 1,
   "id": "3ac7e46e-47c8-4e09-883c-c41c7e685aef",
   "metadata": {},
   "outputs": [],
   "source": [
    "import numpy as np\n",
    "import pandas as pd\n",
    "from scipy import stats"
   ]
  },
  {
   "cell_type": "markdown",
   "id": "f80b600a-0685-4aa1-94e8-fddb46e625b1",
   "metadata": {
    "jp-MarkdownHeadingCollapsed": true
   },
   "source": [
    "# Point Estimates"
   ]
  },
  {
   "cell_type": "markdown",
   "id": "2959efa7-a5ca-4747-9fc2-f9913512b36e",
   "metadata": {},
   "source": [
    "Point estimates are single values that are used to approximate an unknown population parameter based on sample data. In statistics, when you want to make inferences about a population characteristic (such as the mean, variance, or proportion), you often don't have access to data for the entire population. Instead, you take a sample from the population and use that sample to estimate the parameter of interest.\n",
    "\n",
    "Point estimates provide a single, specific value as an estimate for the population parameter. Common point estimates include:\n",
    "\n",
    "1. **Sample Mean (X̄)**: This is used to estimate the population mean (μ). The sample mean is calculated by summing the values in the sample and dividing by the sample size.\n",
    "\n",
    "2. **Sample Proportion (p̂)**: This is used to estimate the population proportion (p). It represents the proportion of successes in a binary outcome (e.g., the proportion of people who buy a product).\n",
    "\n",
    "3. **Sample Variance (s^2)**: This is used to estimate the population variance (σ^2) or standard deviation (σ). It measures the spread or variability in the data.\n",
    "\n",
    "4. **Sample Standard Deviation (s)**: This is used to estimate the population standard deviation (σ). It is the square root of the sample variance.\n",
    "\n",
    "Point estimates are useful because they provide a straightforward way to summarize and communicate information about a population parameter based on limited sample data. However, it's important to recognize that point estimates are subject to sampling variability, meaning that different random samples from the same population can yield different point estimates. To account for this variability and quantify the uncertainty in point estimates, confidence intervals and hypothesis tests are often used in statistics."
   ]
  },
  {
   "cell_type": "code",
   "execution_count": 4,
   "id": "57ae8fda-e54d-4c16-b318-baf9218dca6b",
   "metadata": {},
   "outputs": [
    {
     "name": "stdout",
     "output_type": "stream",
     "text": [
      "Sample Mean: 175.94\n",
      "There Sample Mean is Point Estimate\n"
     ]
    }
   ],
   "source": [
    "# Take a random sample of 100 adult males and use the sample data to estimate the population mean height.\n",
    "# Sample data\n",
    "heights = [175, 180, 168, 172, 185, 178, 170, 174, 182, 176, 181, 169, 177, 173, 186, 175, 179, 171, 183, 172,\n",
    "           174, 170, 177, 175, 168, 172, 180, 176, 171, 175, 182, 178, 176, 183, 169, 175, 171, 184, 179, 178,\n",
    "           173, 176, 180, 170, 172, 175, 178, 184, 170, 179, 181, 175, 177, 174, 186, 172, 176, 169, 183, 181,\n",
    "           174, 171, 185, 177, 170, 182, 168, 172, 178, 175, 179, 174, 186, 181, 170, 172, 177, 173, 175, 168,\n",
    "           172, 180, 175, 169, 183, 176, 171, 178, 174, 177, 179, 175, 168, 172, 186, 171, 174, 175, 182, 180]\n",
    "\n",
    "# Calculate the sample mean\n",
    "sample_mean = np.mean(heights)\n",
    "print(\"Sample Mean:\", sample_mean)\n",
    "print(\"There Sample Mean is Point Estimate\")"
   ]
  },
  {
   "cell_type": "markdown",
   "id": "296b854a-1d6a-4bf1-9f8b-1106df2c1024",
   "metadata": {},
   "source": [
    "# Confidence Intervals"
   ]
  },
  {
   "cell_type": "markdown",
   "id": "c055e29a-7a0b-419c-b876-d3e1e2254b1c",
   "metadata": {},
   "source": [
    "Youtube Link: https://www.youtube.com/watch?v=ENnlSlvQHO0 <br/>\n",
    "Youtube Link 2: https://www.youtube.com/watch?v=TqOeMYtOc1w\n",
    "\n",
    "The general formula for calculating a confidence interval for a population parameter (e.g., population mean) is: <br/>\n",
    "Confidence Interval = Point Estimate ± Margin of Error\n",
    "\n",
    "A confidence interval is a statistical concept used to estimate a range of values within which a population parameter, such as the population mean, population proportion, or population standard deviation, is likely to fall with a certain level of confidence. It provides a way to quantify the uncertainty or variability associated with point estimates (sample statistics) when dealing with data from a sample rather than a full population.\n"
   ]
  },
  {
   "cell_type": "markdown",
   "id": "08cb2712-c875-4af9-b6b0-f98f0eeedf68",
   "metadata": {},
   "source": [
    "### Problem:\n",
    "A manufacturing company produces light bulbs, and you are responsible for quality control. To ensure that the bulbs meet the desired brightness standard, you take a random sample of 40 light bulbs and measure their luminosity (in lumens). You want to calculate a 90% confidence interval for the population mean luminosity to determine if it meets the required standard."
   ]
  },
  {
   "cell_type": "code",
   "execution_count": 14,
   "id": "36799b8a-5738-44c5-bd0f-be0be4c7cc62",
   "metadata": {},
   "outputs": [
    {
     "name": "stdout",
     "output_type": "stream",
     "text": [
      "Sample Mean: 600.5\n",
      "Margin of Error: 2.9817\n",
      "95% Confidence Interval: (597.5182785262059, 603.4817214737941) \n"
     ]
    }
   ],
   "source": [
    "# Sample data (luminosity measurements in lumens)\n",
    "sample_data = [590, 585, 595, 605, 615, 610, 600, 595, 600, 585, 590, 610, 595, 615, 590, 600, 595, 605, 605, 590,\n",
    "               610, 610, 605, 615, 615, 595, 610, 600, 595, 590, 605, 590, 590, 610, 595, 595, 610, 615, 600, 590]\n",
    "\n",
    "# Sample statistics\n",
    "sample_mean = np.mean(sample_data)\n",
    "sample_std = np.std(sample_data, ddof=1) # ddof=1 for sample standard deviation\n",
    "sample_size = len(sample_data)\n",
    "\n",
    "# Confidence Level\n",
    "confidence_level = 0.95\n",
    "\n",
    "# Calculate the margin of error (critical value * standard error)\n",
    "margin_of_error = stats.t.ppf((1 + confidence_level) / 2, df= sample_size - 1) * (sample_std / np.sqrt(sample_size))\n",
    "\n",
    "# Calculate the confidence interval\n",
    "lower_limit = sample_mean - margin_of_error\n",
    "upper_limit = sample_mean + margin_of_error\n",
    "\n",
    "print(\"Sample Mean:\", sample_mean )\n",
    "print(\"Margin of Error:\", round(margin_of_error, 4))\n",
    "print(f\"95% Confidence Interval: ({lower_limit}, {upper_limit}) \")"
   ]
  },
  {
   "cell_type": "markdown",
   "id": "0be55582-dbed-48c6-8588-58a2bec96f00",
   "metadata": {},
   "source": [
    "\n",
    "## Confidence Interval (Sigma Known)"
   ]
  },
  {
   "cell_type": "markdown",
   "id": "a49fc014-bc32-44c3-8123-f70cc29a7d2e",
   "metadata": {},
   "source": [
    "When the population standard deviation (σ) is known, calculating a confidence interval for a population mean (μ) becomes relatively straightforward, and you can use the standard normal distribution (z-distribution). This scenario is less common than when the population standard deviation is unknown (and you use the t-distribution), but it arises in situations where you have accurate knowledge of the population's variability."
   ]
  },
  {
   "cell_type": "code",
   "execution_count": 9,
   "id": "75a653e0-f664-4f5e-a336-93ffa00a318d",
   "metadata": {},
   "outputs": [
    {
     "name": "stdout",
     "output_type": "stream",
     "text": [
      "Mean Heights:  69.09810437897544\n",
      "Population Standard Deviation (σ): 4\n",
      "Sample Size (n): 50\n",
      "Critical Value (Z): 1.959963984540054\n",
      "Margin of Error: 1.1087230594797421\n",
      "95% Confidence Interval: (67.99, 70.21) inches\n"
     ]
    }
   ],
   "source": [
    "# Set a random seed for reproducibility\n",
    "np.random.seed(42)\n",
    "\n",
    "# Generate 50 random heights for adult males (assuming a normal distribution with mean=70 inches and std=4 inches)\n",
    "sample_size = 50\n",
    "heights = np.random.normal(loc=70, scale=4, size=sample_size)\n",
    "data = pd.DataFrame({\"height\": heights})\n",
    "\n",
    "mean_heights = data['height'].mean()\n",
    "print(\"Mean Heights: \", mean_heights)\n",
    "\n",
    "# Sample Statistics\n",
    "sigma = 4 #Known Population standard deviation\n",
    "confidence_level = 0.95\n",
    "\n",
    "# Calculate the critical value (Z) for a 95% confidence level\n",
    "critical_value = stats.norm.ppf((1 + confidence_level)/ 2)\n",
    "\n",
    "# Calculate the margin of error\n",
    "margin_of_error = critical_value * (sigma / np.sqrt(sample_size))\n",
    "\n",
    "# Calculate The Confidence Interval\n",
    "lower_limit = mean_heights - margin_of_error\n",
    "upper_limit = mean_heights + margin_of_error\n",
    "\n",
    "# Display the results\n",
    "print(\"Population Standard Deviation (σ):\", sigma)\n",
    "print(\"Sample Size (n):\", sample_size)\n",
    "print(\"Critical Value (Z):\", critical_value)\n",
    "print(\"Margin of Error:\", margin_of_error)\n",
    "print(f\"95% Confidence Interval: ({lower_limit:.2f}, {upper_limit:.2f}) inches\")"
   ]
  },
  {
   "cell_type": "markdown",
   "id": "328087ad-8189-4776-a992-b15834bf00c6",
   "metadata": {},
   "source": [
    "## Confidence Interval When (Sigma Unknown)"
   ]
  },
  {
   "cell_type": "markdown",
   "id": "b12c6946-bd38-4526-a3e8-e146a99d029a",
   "metadata": {},
   "source": [
    "When the population standard deviation (σ) is unknown, you can calculate a confidence interval for the population mean (μ) using the t-distribution. This is a common scenario in statistical inference when dealing with sample data."
   ]
  },
  {
   "cell_type": "code",
   "execution_count": 25,
   "id": "9a317e5a-4d2f-4eb2-a70d-ae63ced7b144",
   "metadata": {},
   "outputs": [
    {
     "name": "stdout",
     "output_type": "stream",
     "text": [
      "Sample Mean: 85.66666666666667\n",
      "Sample Std: 3.763099724991338\n",
      "T Critical Value: -2.045229642132703\n",
      "Margin of Error -1.4051645305444838\n",
      "95% Confidence Interval: (87.07, 84.26)\n"
     ]
    }
   ],
   "source": [
    "# Sample data (test scores of 30 students)\n",
    "sample_data = [87, 82, 90, 78, 88, 85, 92, 80, 89, 86, 84, 91, 88, 83, 87, 85, 90, 79, 82, 88, 86, 85, 91, 87, 83, 89, 85, 80, 82, 88]\n",
    "\n",
    "# Sample Statistics\n",
    "sample_mean = np.mean(sample_data)\n",
    "sample_std = np.std(sample_data, ddof=1)\n",
    "print(\"Sample Mean:\", sample_mean)\n",
    "print(\"Sample Std:\", sample_std)\n",
    "sample_size = 30\n",
    "\n",
    "# Confidence level (e.g., 95%)\n",
    "confidence_level = 0.95\n",
    "\n",
    "# Calculate the critical value (t) for a 95% confidence level and df (degrees of freedom)\n",
    "# df = sample size - 1\n",
    "t_critical_value = stats.t.ppf((1 - confidence_level)/ 2, df=sample_size - 1)\n",
    "print(\"T Critical Value:\", t_critical_value)\n",
    "\n",
    "# Calculate the margin of error\n",
    "margin_of_error = t_critical_value * (sample_std / np.sqrt(sample_size))\n",
    "print(\"Margin of Error\", margin_of_error)\n",
    "\n",
    "# Calculate the confidence interval\n",
    "lower_limit = sample_mean - margin_of_error\n",
    "upper_limit = sample_mean + margin_of_error\n",
    "\n",
    "print(f\"95% Confidence Interval: ({lower_limit:.2f}, {upper_limit:.2f})\")"
   ]
  },
  {
   "cell_type": "markdown",
   "id": "d98c8677-2498-4566-8ef0-7f5279c76bf5",
   "metadata": {},
   "source": [
    "# Interpreting Confidence Interval"
   ]
  },
  {
   "cell_type": "markdown",
   "id": "1c2b63f7-c239-4ab9-9a03-3049f5e0d5ce",
   "metadata": {},
   "source": [
    "Interpreting a confidence interval involves understanding the range of values it represents and the level of confidence associated with it. Here's how to interpret a confidence interval:\n",
    "\n",
    "1. **Interval Range**: The confidence interval consists of two values, an upper limit and a lower limit, usually represented as (Lower Limit, Upper Limit). For example, (82.52, 87.48).\n",
    "\n",
    "2. **Point Estimate**: The sample mean or point estimate is the best estimate for the population parameter you're interested in. In our example, it's typically the value in the middle of the interval, in this case, 85.00.\n",
    "\n",
    "3. **Confidence Level**: The confidence level (e.g., 95%) indicates the level of confidence you have that the true population parameter falls within the interval. It represents the percentage of times you would expect the procedure to capture the true parameter if you were to take many random samples and compute confidence intervals.\n",
    "\n",
    "Now, let's interpret the example we used earlier:\n",
    "\n",
    "**Example**: A 95% confidence interval for the mean score of students on a standardized test is (82.52, 87.48) points.\n",
    "\n",
    "Interpretation:\n",
    "- **Confidence Level (95%)**: This means that if we were to take many random samples of students and calculate confidence intervals for their test scores, we would expect approximately 95% of those intervals to contain the true population mean score.\n",
    "\n",
    "- **Interval Range (82.52 to 87.48 points)**: We are 95% confident that the true population mean score falls within this range.\n",
    "\n",
    "- **Point Estimate (85.00 points)**: The sample mean score of 85.00 points is our best estimate for the population mean score.\n",
    "\n",
    "- **Uncertainty**: The confidence interval also provides a measure of uncertainty. We are not claiming that the true population mean score is exactly 85.00 points; rather, we are saying that based on our sample data and statistical analysis, we believe it is highly likely to fall within the range of 82.52 to 87.48 points.\n",
    "\n",
    "In practical terms, this means that if we were making decisions or drawing conclusions about the population mean score, we can be reasonably confident that it is within the provided range. However, there is still a 5% chance that the true mean is outside this interval because we are dealing with probabilities and random sampling.\n",
    "\n",
    "In summary, a confidence interval provides a way to quantify the uncertainty of a sample-based estimate and gives you a range of values within which you can reasonably expect the true population parameter to fall with a specified level of confidence."
   ]
  },
  {
   "cell_type": "markdown",
   "id": "3e1f1e51-33c1-4e85-bf0b-233a84a7fc83",
   "metadata": {},
   "source": [
    "# Margin of Error and factors affecting it"
   ]
  },
  {
   "cell_type": "markdown",
   "id": "a3cc3b39-b8dd-4ede-ab2b-2c2237dddf51",
   "metadata": {},
   "source": [
    "The margin of error is a critical component of a confidence interval and represents the maximum amount by which a sample estimate (such as the sample mean or sample proportion) might differ from the true population parameter. It is influenced by several factors:\n",
    "\n",
    "1. **Sample Size (n)**: Generally, larger sample sizes result in smaller margins of error. This is because larger samples provide more information about the population and reduce the uncertainty in the estimate. Smaller sample sizes lead to larger margins of error.\n",
    "\n",
    "   - **Example**: If you double the sample size while keeping all other factors constant, the margin of error typically becomes approximately half as large.\n",
    "\n",
    "2. **Confidence Level**: The chosen confidence level directly affects the margin of error. Higher confidence levels (e.g., 95% or 99%) require wider intervals and result in larger margins of error because you want to be more certain that the interval contains the true parameter.\n",
    "\n",
    "   - **Example**: A 99% confidence interval will be wider (with a larger margin of error) than a 90% confidence interval for the same data.\n",
    "\n",
    "3. **Population Variability (Standard Deviation, σ)**: When dealing with estimating population means, a higher population standard deviation leads to larger margins of error because the data points are more spread out. Conversely, a lower population standard deviation results in smaller margins of error.\n",
    "\n",
    "   - **Example**: If you are estimating the mean income of people in a highly variable industry, your margin of error will be larger than if you were estimating the mean income in a less variable industry.\n",
    "\n",
    "4. **Sample Variability (Sample Standard Deviation, s)**: In situations where the population standard deviation (\\( \\sigma \\)) is unknown, the sample standard deviation (\\( s \\)) is used to estimate it. Larger sample standard deviations result in larger margins of error because they imply greater variability in the sample.\n",
    "\n",
    "   - **Example**: If you collect multiple random samples and some have higher variation in the data, those samples will yield larger margins of error in their confidence intervals.\n",
    "\n",
    "5. **Choice of Statistical Distribution**: The choice of statistical distribution (e.g., t-distribution or z-distribution) affects the margin of error. The t-distribution is wider and has heavier tails than the z-distribution, leading to larger margins of error, especially for smaller sample sizes.\n",
    "\n",
    "   - **Example**: For the same data and confidence level, a confidence interval based on the t-distribution will be wider than one based on the z-distribution.\n",
    "\n",
    "6. **Degree of Freedom (df)**: In the context of the t-distribution, the degrees of freedom (\\( df \\)) affect the margin of error. Smaller degrees of freedom result in wider intervals and larger margins of error.\n",
    "\n",
    "   - **Example**: In a t-distribution, as the degrees of freedom decrease (e.g., with smaller sample sizes), the tails of the distribution become thicker, leading to wider intervals.\n",
    "\n",
    "In practice, when constructing a confidence interval, you should consider these factors and select appropriate sample sizes, confidence levels, and statistical distributions to balance the precision of your estimate (smaller margin of error) with the desired level of confidence."
   ]
  }
 ],
 "metadata": {
  "kernelspec": {
   "display_name": "Python 3 (ipykernel)",
   "language": "python",
   "name": "python3"
  },
  "language_info": {
   "codemirror_mode": {
    "name": "ipython",
    "version": 3
   },
   "file_extension": ".py",
   "mimetype": "text/x-python",
   "name": "python",
   "nbconvert_exporter": "python",
   "pygments_lexer": "ipython3",
   "version": "3.11.2"
  }
 },
 "nbformat": 4,
 "nbformat_minor": 5
}
