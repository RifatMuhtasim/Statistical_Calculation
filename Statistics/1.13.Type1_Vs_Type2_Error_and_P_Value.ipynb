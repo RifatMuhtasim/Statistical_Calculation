{
 "cells": [
  {
   "cell_type": "code",
   "execution_count": 10,
   "id": "1d68bb44-c499-4c19-b4ba-39be06db9919",
   "metadata": {},
   "outputs": [],
   "source": [
    "import pandas as pd\n",
    "import numpy as np\n",
    "from scipy import stats"
   ]
  },
  {
   "cell_type": "markdown",
   "id": "99ed5662-8b83-4ce9-bfb0-d017cefba038",
   "metadata": {},
   "source": [
    "# Type 1 Error vs Type 2 Error"
   ]
  },
  {
   "cell_type": "markdown",
   "id": "a49b914f-52b6-4560-837d-580c3496bb5d",
   "metadata": {},
   "source": [
    "<img src=\"https://learning.eupati.eu/pluginfile.php/673/mod_book/chapter/388/eupati-types1-2-errors.png\" />"
   ]
  },
  {
   "cell_type": "markdown",
   "id": "4ea33193-5633-40d4-975c-9f8d0f7aa032",
   "metadata": {},
   "source": [
    "Youtube Link: https://www.youtube.com/watch?v=a_l991xUAOU <br />\n",
    "Youtube Link 2: https://www.youtube.com/watch?v=Hdbbx7DIweQ\n",
    "\n",
    "Type I Error (False Positive):\n",
    "- Occurs when you mistakenly reject a true null hypothesis.\n",
    "- Controlled by choosing a lower significance level (α), but this increases the risk of Type II errors.\n",
    "- Often associated with being overly cautious and seeing an effect that doesn't exist.\n",
    "\n",
    "Type II Error (False Negative):\n",
    "- Occurs when you fail to reject a false null hypothesis.\n",
    "- Controlled by increasing the sample size or using more powerful statistical tests, but this may not always be feasible.\n",
    "- Often associated with not detecting a real effect or difference when it exists."
   ]
  },
  {
   "cell_type": "markdown",
   "id": "b126bccc-0b78-44ac-b690-38ff51e4a3ef",
   "metadata": {},
   "source": [
    "# One Sided test vs Two sided test"
   ]
  },
  {
   "cell_type": "markdown",
   "id": "b10d931e-5340-4526-b332-654e0e4d6d55",
   "metadata": {},
   "source": [
    "Whether you should use a one-sided test or a two-sided test in hypothesis testing depends on the specific research question and the nature of your hypothesis. Here's a brief explanation of both types of tests:\n",
    "\n",
    "1. One-Sided Test (also called a one-tailed test):\n",
    "   - Use when you are interested in testing a specific direction of the effect or relationship between variables.\n",
    "   - It is used to determine if a parameter is greater than or less than a certain value (i.e., testing a directional hypothesis).\n",
    "   - The critical region is on only one side of the distribution curve (either in the right tail or the left tail), representing the direction of interest.\n",
    "\n",
    "   Example:\n",
    "   Null Hypothesis (H0): The average test scores of Group A are equal to the average test scores of Group B.\n",
    "   Alternative Hypothesis (Ha): The average test scores of Group A are greater than the average test scores of Group B.\n",
    "   In this case, you would use a one-sided test to see if there's evidence that Group A's scores are significantly greater than Group B's scores.\n",
    "\n",
    "2. Two-Sided Test (also called a two-tailed test):\n",
    "   - Use when you want to test if there is a difference in either direction (greater or less) between groups or conditions.\n",
    "   - It is used to determine if a parameter is different from a certain value (i.e., testing a non-directional hypothesis).\n",
    "   - The critical region is split into two sides, both tails of the distribution curve, to account for differences in either direction.\n",
    "\n",
    "   Example:\n",
    "   Null Hypothesis (H0): The average test scores of Group A are equal to the average test scores of Group B.\n",
    "   Alternative Hypothesis (Ha): The average test scores of Group A are not equal to the average test scores of Group B.\n",
    "   In this case, you would use a two-sided test to see if there's evidence that there is any significant difference in test scores between the two groups, regardless of the direction.\n",
    "\n",
    "In summary, the choice between a one-sided test and a two-sided test depends on your research question and what you want to investigate. If you have a specific directional hypothesis, use a one-sided test. If you are interested in whether there is any difference, regardless of direction, use a two-sided test. It's crucial to determine your hypothesis and the direction of your research question before selecting the appropriate test."
   ]
  },
  {
   "cell_type": "markdown",
   "id": "3ec76e76-5afa-40d5-bdef-c1b74c8aa16e",
   "metadata": {},
   "source": [
    "# Statistical Power"
   ]
  },
  {
   "cell_type": "markdown",
   "id": "75812d6c-cb31-47df-8437-aa3907729dcb",
   "metadata": {},
   "source": [
    "Youtube Link: https://www.youtube.com/watch?v=Rsc5znwR5FA <br/>\n",
    "Youtube Link Second part: https://www.youtube.com/watch?v=VX_M3tIyiYk\n",
    "\n",
    "- Power is the probability that will correctly reject null hypothesis. "
   ]
  },
  {
   "cell_type": "markdown",
   "id": "a419e152-9022-44e4-8785-d27da0c54448",
   "metadata": {},
   "source": [
    "# P-Value"
   ]
  },
  {
   "cell_type": "markdown",
   "id": "097cf725-7a8d-4070-8771-f5a0441ad1fd",
   "metadata": {},
   "source": [
    "Youtube Link: https://www.youtube.com/watch?v=vemZtEM63GY <br/>\n",
    "Youtube Link 2: https://www.youtube.com/watch?v=JQc3yx0-Q9E\n",
    "\n",
    "In Summary, as a P-Value is composed of three parts:\n",
    "1. The probability random chance would result in the observation.\n",
    "2. The probability observing somethings else that is equally rare.\n",
    "3. The probability of observing somethings rarer or more extreme."
   ]
  },
  {
   "cell_type": "markdown",
   "id": "9b266adf-4cfc-4b34-8742-be5cbe803c68",
   "metadata": {},
   "source": [
    "The p-value, short for \"probability value,\" is a statistical measure used in hypothesis testing to determine the significance of an observed result. It helps researchers assess whether the results of an experiment or study are statistically significant, which means whether they are likely to have occurred by chance or if they represent a genuine effect.\n",
    "\n",
    "Here's how it works:\n",
    "\n",
    "1. **Formulate Hypotheses:** In hypothesis testing, you start with two hypotheses:\n",
    "   - **Null Hypothesis (H0):** This is a statement of no effect or no difference. It suggests that there is no relationship or difference between the variables being studied.\n",
    "   - **Alternative Hypothesis (Ha or H1):** This is the opposite of the null hypothesis. It suggests that there is a significant relationship or difference between the variables.\n",
    "\n",
    "2. **Collect Data:** You collect data through experiments, surveys, or observations.\n",
    "\n",
    "3. **Calculate a Test Statistic:** You then calculate a test statistic that measures the strength of the evidence against the null hypothesis based on the collected data. The choice of test statistic depends on the type of data and the statistical test being used (e.g., t-test, chi-squared test, ANOVA, etc.).\n",
    "\n",
    "4. **Determine the p-value:** The p-value is the probability of observing a test statistic as extreme as, or more extreme than, the one calculated from the sample data, assuming that the null hypothesis is true. In other words, it tells you how likely it is to obtain the observed results if there is no real effect or difference.\n",
    "\n",
    "5. **Compare the p-value to a Significance Level (α):** Typically, a significance level, denoted as α (alpha), is chosen before conducting the test. Common values for α are 0.05 or 0.01. If the p-value is less than or equal to α, you reject the null hypothesis in favor of the alternative hypothesis, indicating that the results are statistically significant. If the p-value is greater than α, you fail to reject the null hypothesis, suggesting that there is not enough evidence to conclude a significant effect.\n",
    "\n",
    "In practical terms, a smaller p-value indicates stronger evidence against the null hypothesis. For example, a p-value of 0.05 suggests a 5% chance of obtaining the observed results by random chance, which is commonly used as a threshold for statistical significance.\n",
    "\n",
    "It's important to note that the p-value does not tell you the size or practical importance of an effect; it only indicates whether an effect exists and is statistically significant. Researchers should also consider effect sizes and context when interpreting the results of hypothesis tests. Additionally, p-values should be interpreted cautiously and not solely relied upon, as they are subject to misinterpretation and misuse."
   ]
  },
  {
   "cell_type": "markdown",
   "id": "089b7c8e-3f5b-42db-81a1-4a5ca7a0ed93",
   "metadata": {},
   "source": [
    "\n",
    "<br />\n",
    "<br />\n",
    "\n",
    "**Problem:** A pharmaceutical company is testing a new drug intended to lower blood pressure in patients with hypertension. They conduct a clinical trial with two groups: a treatment group receiving the new drug and a control group receiving a placebo. The primary outcome of interest is the change in systolic blood pressure after eight weeks of treatment.\n",
    "\n",
    "The data from the study is as follows:\n",
    "\n",
    "Treatment Group (n = 50): Mean change in systolic blood pressure = 10 mm Hg, Standard Deviation = 5 mm Hg. <br/>\n",
    "Control Group (n = 50): Mean change in systolic blood pressure = 2 mm Hg, Standard Deviation = 4 mm Hg. <br/>\n",
    "The researchers want to determine if the new drug is significantly more effective at reducing blood pressure compared to the placebo. To do this, they perform a hypothesis test using a two-sample t-test.\n",
    "\n",
    "Hypotheses:\n",
    "\n",
    "Null Hypothesis (H0): The new drug has no significant effect on reducing blood pressure; the mean change in systolic blood pressure for the treatment group is equal to the mean change in the control group. <br/>\n",
    "Alternative Hypothesis (Ha): The new drug is significantly effective at reducing blood pressure; the mean change in systolic blood pressure for the treatment group is not equal to the mean change in the control group."
   ]
  },
  {
   "cell_type": "code",
   "execution_count": 15,
   "id": "77c42b4a-b6e6-4dd6-a830-8a011e590f72",
   "metadata": {},
   "outputs": [
    {
     "name": "stdout",
     "output_type": "stream",
     "text": [
      "Test Statistic: 30.893468242133956\n",
      "P-value: 5.0849905859756436e-51\n",
      "Reject the null hypothesis\n"
     ]
    }
   ],
   "source": [
    "# Create the data for the treatment and control groups\n",
    "treatment_data = [12, 9, 8, 15, 10, 11, 13, 14, 9, 12, 10, 11, 14, 15, 13, 10, 12, 11, 10, 9, 13, 12, 14, 11, 10, 12, 15, 13, 14, 9, 8, 10, 12, 11, 13, 15, 9, 14, 11, 10, 12, 13, 14, 15, 11, 9, 10, 12]\n",
    "control_data = [2, 1, 3, 0, 1, 2, 2, 3, 0, 2, 1, 1, 3, 2, 2, 1, 0, 1, 1, 1, 2, 1, 3, 1, 0, 2, 3, 3, 2, 1, 0, 2, 1, 2, 3, 2, 0, 3, 1, 1, 2, 3, 2, 3, 2, 0, 1, 1]\n",
    "\n",
    "# Create DataFrames for the treatment and control groups\n",
    "data = pd.DataFrame({\n",
    "    'Treatment Group': treatment_data,\n",
    "    'Control Group': control_data\n",
    "})\n",
    "\n",
    "# Perform a two-sample t-test\n",
    "t_stat, p_value = stats.ttest_ind(data['Treatment Group'], data['Control Group'])\n",
    "\n",
    "# Define the significance level (alpha)\n",
    "alpha = 0.05\n",
    "\n",
    "# Print the results\n",
    "print(f'Test Statistic: {t_stat}')\n",
    "print(f'P-value: {p_value}')\n",
    "\n",
    "# Compare p-value to alpha\n",
    "if p_value < alpha:\n",
    "    print('Reject the null hypothesis')\n",
    "else:\n",
    "    print('Fail to reject the null hypothesis')\n"
   ]
  }
 ],
 "metadata": {
  "kernelspec": {
   "display_name": "Python 3 (ipykernel)",
   "language": "python",
   "name": "python3"
  },
  "language_info": {
   "codemirror_mode": {
    "name": "ipython",
    "version": 3
   },
   "file_extension": ".py",
   "mimetype": "text/x-python",
   "name": "python",
   "nbconvert_exporter": "python",
   "pygments_lexer": "ipython3",
   "version": "3.11.2"
  }
 },
 "nbformat": 4,
 "nbformat_minor": 5
}
